{
 "cells": [
  {
   "cell_type": "code",
   "execution_count": 1,
   "metadata": {
    "collapsed": true
   },
   "outputs": [],
   "source": [
    "import pyspark as ps\n",
    "import numpy as np"
   ]
  },
  {
   "cell_type": "code",
   "execution_count": 2,
   "metadata": {
    "collapsed": true
   },
   "outputs": [],
   "source": [
    "sc = ps.SparkContext('local')"
   ]
  },
  {
   "cell_type": "code",
   "execution_count": 3,
   "metadata": {
    "collapsed": true
   },
   "outputs": [],
   "source": [
    "test_rdd = sc.textFile('dummy_clusters.csv')"
   ]
  },
  {
   "cell_type": "code",
   "execution_count": 29,
   "metadata": {
    "collapsed": false
   },
   "outputs": [
    {
     "name": "stdout",
     "output_type": "stream",
     "text": [
      "Populating the interactive namespace from numpy and matplotlib\n",
      "200\n",
      "<type 'numpy.ndarray'>\n",
      "[[-0.79415228  2.10495117]\n",
      " [-9.15155186 -4.81286449]]\n"
     ]
    },
    {
     "data": {
      "text/plain": [
       "<matplotlib.collections.PathCollection at 0x10da23bd0>"
      ]
     },
     "execution_count": 29,
     "metadata": {},
     "output_type": "execute_result"
    },
    {
     "data": {
      "image/png": "[encoded data removed]",
      "text/plain": [
       "<matplotlib.figure.Figure at 0x108958810>"
      ]
     },
     "metadata": {},
     "output_type": "display_data"
    }
   ],
   "source": [
    "#Some plotting of the data and centroids just to set the scene: \n",
    "import matplotlib.pyplot as plt\n",
    "%pylab inline\n",
    "\n",
    "# Create a numpy array of the data - two columns and 100 rows\n",
    "test_rows = test_rdd.map(lambda line: np.array(map(float,line.split(','))))\n",
    "data = np.array(test_rows.collect())\n",
    "\n",
    "# Lets look at what this conversion to np gives us and looks like. \n",
    "# It is a normal np array that we know how to manipulate. \n",
    "# This means is it not an RDD anymore and therefore not distributed. \n",
    "print data.size\n",
    "print type(data)\n",
    "print data[0:2,:]\n",
    "\n",
    "# We choose some optimal centroids - using the same np format for our data points\n",
    "optimal_centroids = [np.array([-12, -4]), np.array([-6.5, -11]), np.array([-4, 4])]\n",
    "centroids = np.array(optimal_centroids)\n",
    "\n",
    "# All of the above to plot this easily: \n",
    "plt.scatter(data[:, 0], data[:,1])\n",
    "plt.scatter(centroids[:, 0], centroids[:, 1], c='r', s=50)"
   ]
  },
  {
   "cell_type": "code",
   "execution_count": 5,
   "metadata": {
    "collapsed": false
   },
   "outputs": [],
   "source": [
    "# KMeans method requires the feature vector, the initial centroids and the number of iterations we wish to run\n",
    "# we will try to parallelise this method as much as possible. \n",
    "\n",
    "def Kmeans(features, centers, num_iterations):\n",
    "\n",
    "    for i in xrange(num_iterations):\n",
    "        # Assign data points to a centroid\n",
    "        # notice we start using ml notation for our features, x. \n",
    "        \n",
    "        assignments = features.map(lambda x: compute_assignments(x, centers))\n",
    "        \n",
    "        # Calculate the mean of all data points attached to a centroid and update the centroid\n",
    "    \n",
    "    "
   ]
  }
 ],
 "metadata": {
  "kernelspec": {
   "display_name": "Python 2",
   "language": "python",
   "name": "python2"
  },
  "language_info": {
   "codemirror_mode": {
    "name": "ipython",
    "version": 2
   },
   "file_extension": ".py",
   "mimetype": "text/x-python",
   "name": "python",
   "nbconvert_exporter": "python",
   "pygments_lexer": "ipython2",
   "version": "2.7.12"
  }
 },
 "nbformat": 4,
 "nbformat_minor": 0
}
