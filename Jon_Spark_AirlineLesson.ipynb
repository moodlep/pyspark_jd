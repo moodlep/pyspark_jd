{
 "cells": [
  {
   "cell_type": "code",
   "execution_count": 1,
   "metadata": {
    "collapsed": true
   },
   "outputs": [],
   "source": [
    "import pyspark as ps"
   ]
  },
  {
   "cell_type": "code",
   "execution_count": 2,
   "metadata": {
    "collapsed": true
   },
   "outputs": [],
   "source": [
    "sc = ps.SparkContext()"
   ]
  },
  {
   "cell_type": "markdown",
   "metadata": {},
   "source": [
    "The data is from the US Department of Transport site\n",
    "(http://www.transtats.bts.gov/databases.asp?Subject_ID=3&Subject_Desc=Passenger%20Travel&Mode_ID2=0)\n",
    "This is flight performance data - looks similar to the data Jon is using. \n",
    "\n",
    "First step, create an RDD from the text file downloaded. Take a look at the data. "
   ]
  },
  {
   "cell_type": "code",
   "execution_count": 3,
   "metadata": {
    "collapsed": true
   },
   "outputs": [],
   "source": [
    "airline = sc.textFile('492610425_T_ONTIME.csv')"
   ]
  },
  {
   "cell_type": "code",
   "execution_count": 4,
   "metadata": {
    "collapsed": false
   },
   "outputs": [
    {
     "data": {
      "text/plain": [
       "[u'\"YEAR\",\"UNIQUE_CARRIER\",\"ORIGIN_AIRPORT_ID\",\"DEST_AIRPORT_ID\",\"DEP_DELAY\",\"ARR_DELAY\",\"CANCELLED\",',\n",
       " u'2015,\"AA\",12478,12892,-5.00,7.00,0.00,']"
      ]
     },
     "execution_count": 4,
     "metadata": {},
     "output_type": "execute_result"
    }
   ],
   "source": [
    "airline.take(2)"
   ]
  },
  {
   "cell_type": "code",
   "execution_count": 4,
   "metadata": {
    "collapsed": false
   },
   "outputs": [],
   "source": [
    "#Remove the quotes and the final , from each line. \n",
    "#Note the strip(',') basically replaces the comma at the end of each line. \n",
    "\n",
    "airline_no_quotes = airline.map(lambda line: line.replace('\\'','').replace('\\\"','').strip(','))"
   ]
  },
  {
   "cell_type": "code",
   "execution_count": 6,
   "metadata": {
    "collapsed": false
   },
   "outputs": [
    {
     "data": {
      "text/plain": [
       "[u'YEAR,UNIQUE_CARRIER,ORIGIN_AIRPORT_ID,DEST_AIRPORT_ID,DEP_DELAY,ARR_DELAY,CANCELLED',\n",
       " u'2015,AA,12478,12892,-5.00,7.00,0.00']"
      ]
     },
     "execution_count": 6,
     "metadata": {},
     "output_type": "execute_result"
    }
   ],
   "source": [
    "airline_no_quotes.take(2)"
   ]
  },
  {
   "cell_type": "markdown",
   "metadata": {},
   "source": [
    "### Timing\n",
    "Some techniques to measure timing - can use %time magic function but better to import time and call \n",
    "time.time() at the start and end of the transaction. "
   ]
  },
  {
   "cell_type": "code",
   "execution_count": 7,
   "metadata": {
    "collapsed": false
   },
   "outputs": [
    {
     "name": "stdout",
     "output_type": "stream",
     "text": [
      "CPU times: user 3 µs, sys: 1e+03 ns, total: 4 µs\n",
      "Wall time: 5.96 µs\n"
     ]
    },
    {
     "data": {
      "text/plain": [
       "[u'YEAR,UNIQUE_CARRIER,ORIGIN_AIRPORT_ID,DEST_AIRPORT_ID,DEP_DELAY,ARR_DELAY,CANCELLED',\n",
       " u'2015,AA,12478,12892,-5.00,7.00,0.00',\n",
       " u'2015,AA,12478,12892,-10.00,-19.00,0.00']"
      ]
     },
     "execution_count": 7,
     "metadata": {},
     "output_type": "execute_result"
    }
   ],
   "source": [
    "%time\n",
    "airline_no_quotes.take(3)"
   ]
  },
  {
   "cell_type": "code",
   "execution_count": 8,
   "metadata": {
    "collapsed": false
   },
   "outputs": [
    {
     "name": "stdout",
     "output_type": "stream",
     "text": [
      "The time taken is 0.0356178283691\n"
     ]
    }
   ],
   "source": [
    "import time\n",
    "start_time = time.time()\n",
    "airline_no_quotes.take(3)\n",
    "end_time = time.time()\n",
    "print \"The time taken is {0}\".format(end_time-start_time)"
   ]
  },
  {
   "cell_type": "markdown",
   "metadata": {},
   "source": [
    "### Caching the RDD\n",
    "You can cache the rdd using the rdd function cache()\n",
    "The first time the Action command runs, the cache is populated so the next time you run the script the next steps will rely on the cached data. \n",
    "\n",
    "I presume you need to be careful which data you are caching....\n"
   ]
  },
  {
   "cell_type": "code",
   "execution_count": 5,
   "metadata": {
    "collapsed": false
   },
   "outputs": [
    {
     "data": {
      "text/plain": [
       "PythonRDD[2] at RDD at PythonRDD.scala:48"
      ]
     },
     "execution_count": 5,
     "metadata": {},
     "output_type": "execute_result"
    }
   ],
   "source": [
    "airline_no_quotes.cache()"
   ]
  },
  {
   "cell_type": "markdown",
   "metadata": {},
   "source": [
    "### Removing the header column\n",
    "Now we want to extract the header column as a list for later and also to have a set of the data without the header column. \n"
   ]
  },
  {
   "cell_type": "code",
   "execution_count": 6,
   "metadata": {
    "collapsed": false
   },
   "outputs": [
    {
     "name": "stdout",
     "output_type": "stream",
     "text": [
      "[u'YEAR', u'UNIQUE_CARRIER', u'ORIGIN_AIRPORT_ID', u'DEST_AIRPORT_ID', u'DEP_DELAY', u'ARR_DELAY', u'CANCELLED']\n"
     ]
    }
   ],
   "source": [
    "header_line = airline_no_quotes.first()\n",
    "header_list = header_line.split(',')\n",
    "print header_list"
   ]
  },
  {
   "cell_type": "code",
   "execution_count": 7,
   "metadata": {
    "collapsed": true
   },
   "outputs": [],
   "source": [
    "airline_no_header = airline_no_quotes.filter(lambda line: line != header_line)"
   ]
  },
  {
   "cell_type": "code",
   "execution_count": 12,
   "metadata": {
    "collapsed": false
   },
   "outputs": [
    {
     "data": {
      "text/plain": [
       "u'2015,AA,12478,12892,-5.00,7.00,0.00'"
      ]
     },
     "execution_count": 12,
     "metadata": {},
     "output_type": "execute_result"
    }
   ],
   "source": [
    "airline_no_header.first()"
   ]
  },
  {
   "cell_type": "markdown",
   "metadata": {},
   "source": [
    "\n",
    "###Preparing the data in a better format\n",
    "\n",
    "So what we want now is to convert our tabular like data into a list or set of rows so we can more easily process them. \n",
    "This will look something like below for each row: \n",
    "[u'UNIQUE_CARRIER',AA \n",
    " u'FL_NUM',1\n",
    " u'ORIGIN_AIRPORT_ID',12478\n",
    " u'ORIGIN_CITY_NAME',New York, NY\n",
    " u'DEST_AIRPORT_ID',12892\n",
    " u'DEST_CITY_NAME',Los Angeles\n",
    " u'DEP_DELAY',-5.00\n",
    " u'ARR_DELAY',7.00\n",
    " u'CANCELLED', 0.00]"
   ]
  },
  {
   "cell_type": "code",
   "execution_count": 8,
   "metadata": {
    "collapsed": false
   },
   "outputs": [],
   "source": [
    "# A new transformation function that is a little bigger than a lambda that needs to do: \n",
    "# take each row and split the row into a list and then zip the list with the header list. \n",
    "# So each row is transposed into one column and the headings are attached, like a dictionary. \n",
    "def make_row(row):\n",
    "    row_list = row.split(',')\n",
    "    d = dict(zip(header_list,row_list))\n",
    "    return d"
   ]
  },
  {
   "cell_type": "code",
   "execution_count": 15,
   "metadata": {
    "collapsed": false
   },
   "outputs": [
    {
     "name": "stdout",
     "output_type": "stream",
     "text": [
      "[u'2015', u'AA', u'12478', u'12892', u'-5.00', u'7.00', u'0.00']\n",
      "[u'YEAR', u'UNIQUE_CARRIER', u'ORIGIN_AIRPORT_ID', u'DEST_AIRPORT_ID', u'DEP_DELAY', u'ARR_DELAY', u'CANCELLED']\n"
     ]
    },
    {
     "data": {
      "text/plain": [
       "{u'ARR_DELAY': u'7.00',\n",
       " u'CANCELLED': u'0.00',\n",
       " u'DEP_DELAY': u'-5.00',\n",
       " u'DEST_AIRPORT_ID': u'12892',\n",
       " u'ORIGIN_AIRPORT_ID': u'12478',\n",
       " u'UNIQUE_CARRIER': u'AA',\n",
       " u'YEAR': u'2015'}"
      ]
     },
     "execution_count": 15,
     "metadata": {},
     "output_type": "execute_result"
    }
   ],
   "source": [
    "#Test the function on the first line - it seems to do what we want\n",
    "#make_row(airline_no_header.first())\n",
    "print airline_no_header.first().split(',')\n",
    "print header_list\n",
    "dict(zip(header_list,airline_no_header.first().split(',')))"
   ]
  },
  {
   "cell_type": "code",
   "execution_count": 9,
   "metadata": {
    "collapsed": true
   },
   "outputs": [],
   "source": [
    "# Now run the function over all rows and create a new rdd \n",
    "airline_rows = airline_no_header.map(make_row)"
   ]
  },
  {
   "cell_type": "markdown",
   "metadata": {},
   "source": [
    "### dictionaries: \n",
    "The beauty of what we have just done is we have converted each row into a dictionary of key values. \n",
    "A dictionary is like a map. \n",
    "Accessing the fields is easy: \n",
    "\n",
    "airline_rows.first()['ARR_DELAY'] or  airline_rows.first().get('ARR_DELAY') returns the first row as a dictionary and then gets the value for that key. \n",
    "All rows in a dict are defined by the key fields. "
   ]
  },
  {
   "cell_type": "code",
   "execution_count": 10,
   "metadata": {
    "collapsed": false
   },
   "outputs": [
    {
     "data": {
      "text/plain": [
       "[{u'ARR_DELAY': u'7.00',\n",
       "  u'CANCELLED': u'0.00',\n",
       "  u'DEP_DELAY': u'-5.00',\n",
       "  u'DEST_AIRPORT_ID': u'12892',\n",
       "  u'ORIGIN_AIRPORT_ID': u'12478',\n",
       "  u'UNIQUE_CARRIER': u'AA',\n",
       "  u'YEAR': u'2015'},\n",
       " {u'ARR_DELAY': u'-19.00',\n",
       "  u'CANCELLED': u'0.00',\n",
       "  u'DEP_DELAY': u'-10.00',\n",
       "  u'DEST_AIRPORT_ID': u'12892',\n",
       "  u'ORIGIN_AIRPORT_ID': u'12478',\n",
       "  u'UNIQUE_CARRIER': u'AA',\n",
       "  u'YEAR': u'2015'}]"
      ]
     },
     "execution_count": 10,
     "metadata": {},
     "output_type": "execute_result"
    }
   ],
   "source": [
    "airline_rows.take(2)"
   ]
  },
  {
   "cell_type": "markdown",
   "metadata": {},
   "source": [
    "### Aggregating the worst and best airlines\n",
    "Which Airline has the worst arrival delays:\n",
    "Create a key value pair of the destination airline and the arrival delay \n",
    "Do this by creating a new RDD that reads every row and extracts the from dict the field u'DEST_AIRPORT_ID as the key and the ARR_DELAY as the value\n",
    "\n",
    "Note we are doing a few new things here: \n",
    "1. Adding some error handling when we convert to float: reads as \"float(blah blah) if row[] is not null else 0\"\n",
    "2. We are using groupByKey().mapValues() where the groupby returns the groups and the mapValues has access to the data within each group. Look carefully at the mapValues() to grasp this concept.\n",
    "3. numpy is used to perform the mean calculation\n"
   ]
  },
  {
   "cell_type": "code",
   "execution_count": 18,
   "metadata": {
    "collapsed": false
   },
   "outputs": [],
   "source": [
    "destination_keyvalue = airline_rows.map(lambda row: (row['DEST_AIRPORT_ID'],\\\n",
    "                                                     float(row['ARR_DELAY']) if row['ARR_DELAY'] else 0 ))"
   ]
  },
  {
   "cell_type": "code",
   "execution_count": 19,
   "metadata": {
    "collapsed": false
   },
   "outputs": [],
   "source": [
    "origin_keyvalue = airline_rows.map(lambda row: (row['ORIGIN_AIRPORT_ID'], \\\n",
    "                                                float(row['DEP_DELAY']) if row['DEP_DELAY'] else 0))"
   ]
  },
  {
   "cell_type": "code",
   "execution_count": 24,
   "metadata": {
    "collapsed": true
   },
   "outputs": [],
   "source": [
    "import numpy as np\n",
    "\n",
    "mean_delays_dest = destination_keyvalue.groupByKey().mapValues(lambda delays: np.mean(delays.data))\n",
    "mean_delays_origin = origin_keyvalue.groupByKey().mapValues(lambda delays: np.mean(delays.data))"
   ]
  },
  {
   "cell_type": "code",
   "execution_count": 25,
   "metadata": {
    "collapsed": false
   },
   "outputs": [
    {
     "data": {
      "text/plain": [
       "[(u'11193', 8.3105662580268529),\n",
       " (u'13830', 4.7592496091714436),\n",
       " (u'15016', 7.7876410004904368),\n",
       " (u'14679', 6.6169898126848503)]"
      ]
     },
     "execution_count": 25,
     "metadata": {},
     "output_type": "execute_result"
    }
   ],
   "source": [
    "mean_delays_dest.take(4)\n",
    "mean_delays_origin.take(4)"
   ]
  },
  {
   "cell_type": "code",
   "execution_count": 31,
   "metadata": {
    "collapsed": false
   },
   "outputs": [
    {
     "name": "stdout",
     "output_type": "stream",
     "text": [
      "Dest airport: 5 best early arrivals \n",
      "\n",
      "[(u'10165', -24.555555555555557), (u'11092', -15.055555555555555), (u'13127', -9.7547169811320753), (u'15582', -6.716981132075472), (u'12343', -6.6037735849056602)]\n",
      "\n",
      " Dest airport: 5 best worst arrivals \n",
      "\n",
      "[(u'13459', 44.07692307692308), (u'13964', 27.941176470588236), (u'10268', 27.051724137931036), (u'11067', 26.8125), (u'11203', 26.733333333333334)]\n",
      "\n",
      " Origin airport: 5 best early departures \n",
      "\n",
      "[(u'11092', -8.8888888888888893), (u'11525', -8.8524590163934427), (u'10170', -8.5333333333333332), (u'10926', -8.3333333333333339), (u'15991', -7.8833333333333337)]\n",
      "\n",
      " Dest airport: 5 best worst departures \n",
      "\n",
      "[(u'11447', 31.26530612244898), (u'12335', 30.706896551724139), (u'13964', 28.588235294117649), (u'10930', 28.399999999999999), (u'12519', 28.373333333333335)]\n"
     ]
    }
   ],
   "source": [
    "# now we want to find the best and worst airports so we use sortBy\n",
    "# sortBy needs to be passed something to sort and also the ordering ASC or DESC\n",
    "print \"Dest airport: 5 best early arrivals \\n\"\n",
    "print mean_delays_dest.sortBy(lambda means: means[1], ascending=True).take(5)\n",
    "\n",
    "print \"\\n Dest airport: 5 best worst arrivals \\n\"\n",
    "print mean_delays_dest.sortBy(lambda means: means[1], ascending=False).take(5)\n",
    "\n",
    "print \"\\n Origin airport: 5 best early departures \\n\"\n",
    "print mean_delays_origin.sortBy(lambda means: means[1], ascending=True).take(5)\n",
    "\n",
    "print \"\\n Dest airport: 5 best worst departures \\n\"\n",
    "print mean_delays_origin.sortBy(lambda means: means[1], ascending=False).take(5)"
   ]
  },
  {
   "cell_type": "code",
   "execution_count": null,
   "metadata": {
    "collapsed": true
   },
   "outputs": [],
   "source": []
  }
 ],
 "metadata": {
  "kernelspec": {
   "display_name": "Python 2",
   "language": "python",
   "name": "python2"
  },
  "language_info": {
   "codemirror_mode": {
    "name": "ipython",
    "version": 2
   },
   "file_extension": ".py",
   "mimetype": "text/x-python",
   "name": "python",
   "nbconvert_exporter": "python",
   "pygments_lexer": "ipython2",
   "version": "2.7.12"
  }
 },
 "nbformat": 4,
 "nbformat_minor": 0
}
