{
 "cells": [
  {
   "cell_type": "markdown",
   "metadata": {},
   "source": [
    "## Outline\n",
    "\n",
    "1. EDA on Donors choose\n",
    "    * look for missing values\n",
    "    * basic summary statistics\n",
    "    * correlations\n",
    "    * distribution of donations\n",
    "    * time series of donations: donate more around holidays?\n",
    "    * distribution of donation types —> spark DF to pandas DF\n",
    "    * look at number completed vs number pending\n",
    "\n",
    "![](http://semanticommunity.info/@api/deki/files/27075/Figure2-2.png?size=bestfit&width=582&height=408&revision=1)"
   ]
  },
  {
   "cell_type": "markdown",
   "metadata": {},
   "source": [
    "## Raw Data\n",
    "\n",
    "Thankfully [Donors Choose](http://www.donorschoose.org/) has gracefully (and transparently) opened up all of their data. There are five main datasets found [here](http://data.donorschoose.org/open-data/overview/):\n",
    "* [Project Data (the main one we will use)](http://data.donorschoose.org/open-data/project-data/): All classroom projects that have been posted to the site, including lots of school info such as its NCES ID (government-issued), lat/long, and city/state/zip. Each row in the table is a classroom project. \n",
    "* [Donation Data (the largest and most specific)](http://data.donorschoose.org/open-data/donation-data/): All donations, including donor city, state, and partial-zip (when available). Each donation corresponds to a single classroom project so, for example, a donor can put 3 project donations in a check-out cart and pay for them with a single transaction.\n",
    "* [Gistcard Data](http://data.donorschoose.org/open-data/giftcard-data/): All gift cards purchased by an individual donor through our public website, including donor and recipient city, state, and partial-zip (when available). \n",
    "* [Project Resources Data](http://data.donorschoose.org/open-data/project-resource-data/): All materials/resources requested for the classroom projects, including vendor name. Each record corresponds to a single requested material/resource from a specific vendor. \n",
    "* [Project Essay Data](http://data.donorschoose.org/open-data/project-essay-data/): Full text of the teacher-written requests accompanying all classroom projects. The heart of each teacher’s classroom project request is their written request, including a project title, a free-form essay or series of paragraphs answering a series of questions, and a summary of the materials/resources requested.\n",
    "\n",
    "![relations](http://data.donorschoose.org/wp-content/uploads/2013/12/DonorsChoose-org-data-schema-04012011.png)"
   ]
  },
  {
   "cell_type": "code",
   "execution_count": 1,
   "metadata": {
    "collapsed": false
   },
   "outputs": [],
   "source": [
    "import pyspark as ps "
   ]
  },
  {
   "cell_type": "code",
   "execution_count": 2,
   "metadata": {
    "collapsed": false
   },
   "outputs": [
    {
     "data": {
      "text/plain": [
       "u'local'"
      ]
     },
     "execution_count": 2,
     "metadata": {},
     "output_type": "execute_result"
    }
   ],
   "source": [
    "# create a local Spark context\n",
    "sc = ps.SparkContext('local')\n",
    "\n",
    "# we can see that it uses all of the cores [*]\n",
    "sc.master"
   ]
  },
  {
   "cell_type": "code",
   "execution_count": 29,
   "metadata": {
    "collapsed": true
   },
   "outputs": [],
   "source": [
    "import os\n",
    "\n",
    "# need to get local path since we are reading local files\n",
    "cwd = os.getcwd()"
   ]
  },
  {
   "cell_type": "code",
   "execution_count": 4,
   "metadata": {
    "collapsed": true
   },
   "outputs": [],
   "source": [
    "rdd = sc.textFile('file://' + cwd + '/data/donors_choose/project_sample.csv')"
   ]
  },
  {
   "cell_type": "code",
   "execution_count": 30,
   "metadata": {
    "collapsed": false
   },
   "outputs": [
    {
     "data": {
      "text/plain": [
       "ParallelCollectionRDD[16] at parallelize at PythonRDD.scala:391"
      ]
     },
     "execution_count": 30,
     "metadata": {},
     "output_type": "execute_result"
    }
   ],
   "source": [
    "sc.parallelize([1,2,3,43])"
   ]
  },
  {
   "cell_type": "code",
   "execution_count": 31,
   "metadata": {
    "collapsed": false
   },
   "outputs": [
    {
     "data": {
      "text/plain": [
       "10001"
      ]
     },
     "execution_count": 31,
     "metadata": {},
     "output_type": "execute_result"
    }
   ],
   "source": [
    "rdd.count()"
   ]
  },
  {
   "cell_type": "code",
   "execution_count": 32,
   "metadata": {
    "collapsed": false
   },
   "outputs": [
    {
     "data": {
      "text/plain": [
       "u'_projectid,_teacher_acctid,_schoolid,school_ncesid,school_latitude,school_longitude,school_city,school_state,school_zip,school_metro,school_district,school_county,school_charter,school_magnet,school_year_round,school_nlns,school_kipp,school_charter_ready_promise,teacher_prefix,teacher_teach_for_america,teacher_ny_teaching_fellow,primary_focus_subject,primary_focus_area,secondary_focus_subject,secondary_focus_area,resource_type,poverty_level,grade_level,vendor_shipping_charges,sales_tax,payment_processing_charges,fulfillment_labor_materials,total_price_excluding_optional_support,total_price_including_optional_support,students_reached,total_donations,num_donors,eligible_double_your_impact_match,eligible_almost_home_match,funding_status,date_posted,date_completed,date_thank_you_packet_mailed,date_expiration'"
      ]
     },
     "execution_count": 32,
     "metadata": {},
     "output_type": "execute_result"
    }
   ],
   "source": [
    "rdd.first()"
   ]
  },
  {
   "cell_type": "code",
   "execution_count": 34,
   "metadata": {
    "collapsed": false
   },
   "outputs": [
    {
     "data": {
      "text/plain": [
       "[u'_projectid,_teacher_acctid,_schoolid,school_ncesid,school_latitude,school_longitude,school_city,school_state,school_zip,school_metro,school_district,school_county,school_charter,school_magnet,school_year_round,school_nlns,school_kipp,school_charter_ready_promise,teacher_prefix,teacher_teach_for_america,teacher_ny_teaching_fellow,primary_focus_subject,primary_focus_area,secondary_focus_subject,secondary_focus_area,resource_type,poverty_level,grade_level,vendor_shipping_charges,sales_tax,payment_processing_charges,fulfillment_labor_materials,total_price_excluding_optional_support,total_price_including_optional_support,students_reached,total_donations,num_donors,eligible_double_your_impact_match,eligible_almost_home_match,funding_status,date_posted,date_completed,date_thank_you_packet_mailed,date_expiration',\n",
       " u'\"\"\"e565fb42185c6e9f22806ad9d5ac8a77\"\"\",\"\"\"2e17c8c91cb58132d8103a9aa8797e80\"\"\",\"\"\"45e7ddbdd7023f1eb65a6cc028d7414f\"\"\",360009001332,40.841691,-73.875457,Bronx,NY,10460,urban,New York City Dept Of Ed,Bronx,f,f,f,f,f,f,Mr.,f,f,Literacy,Literacy & Language,,,Books,highest poverty,Grades 9-12,,,,,280.02,341.49,0,308.00,1,f,f,completed,2007-03-08,2007-03-08,2007-03-08,2003-12-31']"
      ]
     },
     "execution_count": 34,
     "metadata": {},
     "output_type": "execute_result"
    }
   ],
   "source": [
    "rdd.take(2)"
   ]
  },
  {
   "cell_type": "code",
   "execution_count": 35,
   "metadata": {
    "collapsed": true
   },
   "outputs": [],
   "source": [
    "header = rdd.first()"
   ]
  },
  {
   "cell_type": "code",
   "execution_count": 38,
   "metadata": {
    "collapsed": true
   },
   "outputs": [],
   "source": [
    "def special_func(line):\n",
    "    return line.split(' ')"
   ]
  },
  {
   "cell_type": "code",
   "execution_count": 43,
   "metadata": {
    "collapsed": false
   },
   "outputs": [
    {
     "data": {
      "text/plain": [
       "unicode"
      ]
     },
     "execution_count": 43,
     "metadata": {},
     "output_type": "execute_result"
    }
   ],
   "source": [
    "type(header)"
   ]
  },
  {
   "cell_type": "code",
   "execution_count": 36,
   "metadata": {
    "collapsed": true
   },
   "outputs": [],
   "source": [
    "rdd_no_header = rdd.filter(lambda row: row != header)"
   ]
  },
  {
   "cell_type": "code",
   "execution_count": 57,
   "metadata": {
    "collapsed": false
   },
   "outputs": [
    {
     "data": {
      "text/plain": [
       "u'\"\"\"e565fb42185c6e9f22806ad9d5ac8a77\"\"\",\"\"\"2e17c8c91cb58132d8103a9aa8797e80\"\"\",\"\"\"45e7ddbdd7023f1eb65a6cc028d7414f\"\"\",360009001332,40.841691,-73.875457,Bronx,NY,10460,urban,New York City Dept Of Ed,Bronx,f,f,f,f,f,f,Mr.,f,f,Literacy,Literacy & Language,,,Books,highest poverty,Grades 9-12,,,,,280.02,341.49,0,308.00,1,f,f,completed,2007-03-08,2007-03-08,2007-03-08,2003-12-31'"
      ]
     },
     "execution_count": 57,
     "metadata": {},
     "output_type": "execute_result"
    }
   ],
   "source": [
    "rdd_no_header.first()"
   ]
  },
  {
   "cell_type": "code",
   "execution_count": 49,
   "metadata": {
    "collapsed": false
   },
   "outputs": [
    {
     "data": {
      "text/plain": [
       "10000"
      ]
     },
     "execution_count": 49,
     "metadata": {},
     "output_type": "execute_result"
    }
   ],
   "source": [
    "rdd_no_header.count()"
   ]
  },
  {
   "cell_type": "code",
   "execution_count": 59,
   "metadata": {
    "collapsed": true
   },
   "outputs": [],
   "source": [
    "rdd_csv = rdd_no_header.map(lambda row: row.split(',')) "
   ]
  },
  {
   "cell_type": "code",
   "execution_count": 46,
   "metadata": {
    "collapsed": false
   },
   "outputs": [
    {
     "name": "stdout",
     "output_type": "stream",
     "text": [
      "(1) PythonRDD[25] at RDD at PythonRDD.scala:43 []\n",
      " |  MapPartitionsRDD[1] at textFile at NativeMethodAccessorImpl.java:-2 []\n",
      " |  file:///Users/jonathandinu/spark-ds-applications/jay/data/donors_choose/project_sample.csv HadoopRDD[0] at textFile at NativeMethodAccessorImpl.java:-2 []\n"
     ]
    }
   ],
   "source": [
    "print rdd_csv.toDebugString()"
   ]
  },
  {
   "cell_type": "code",
   "execution_count": null,
   "metadata": {
    "collapsed": false
   },
   "outputs": [],
   "source": [
    "rdd_csv.collect()"
   ]
  },
  {
   "cell_type": "markdown",
   "metadata": {},
   "source": [
    "## Data Quality"
   ]
  },
  {
   "cell_type": "code",
   "execution_count": 62,
   "metadata": {
    "collapsed": false
   },
   "outputs": [
    {
     "data": {
      "text/plain": [
       "44"
      ]
     },
     "execution_count": 62,
     "metadata": {},
     "output_type": "execute_result"
    }
   ],
   "source": [
    "# first quality check, consistent number of fields?\n",
    "header_list = header.split(',')\n",
    "columns_count = len(header_list)\n",
    "columns_count"
   ]
  },
  {
   "cell_type": "code",
   "execution_count": 63,
   "metadata": {
    "collapsed": false
   },
   "outputs": [
    {
     "data": {
      "text/plain": [
       "9999"
      ]
     },
     "execution_count": 63,
     "metadata": {},
     "output_type": "execute_result"
    }
   ],
   "source": [
    "rdd_csv.map(lambda row: len(row) == columns_count).sum()"
   ]
  },
  {
   "cell_type": "code",
   "execution_count": 64,
   "metadata": {
    "collapsed": false
   },
   "outputs": [
    {
     "data": {
      "text/plain": [
       "1"
      ]
     },
     "execution_count": 64,
     "metadata": {},
     "output_type": "execute_result"
    }
   ],
   "source": [
    "rdd_csv.map(lambda row: len(row) != columns_count).sum()"
   ]
  },
  {
   "cell_type": "code",
   "execution_count": 65,
   "metadata": {
    "collapsed": false
   },
   "outputs": [],
   "source": [
    "class RowSplitException(Exception):\n",
    "    pass"
   ]
  },
  {
   "cell_type": "code",
   "execution_count": 25,
   "metadata": {
    "collapsed": false,
    "scrolled": false
   },
   "outputs": [
    {
     "ename": "Py4JJavaError",
     "evalue": "An error occurred while calling z:org.apache.spark.api.python.PythonRDD.collectAndServe.\n: org.apache.spark.SparkException: Job aborted due to stage failure: Task 0 in stage 12.0 failed 1 times, most recent failure: Lost task 0.0 in stage 12.0 (TID 12, localhost): org.apache.spark.api.python.PythonException: Traceback (most recent call last):\n  File \"/Users/jonathandinu/spark-1.5.0-bin-hadoop2.6/python/lib/pyspark.zip/pyspark/worker.py\", line 111, in main\n    process()\n  File \"/Users/jonathandinu/spark-1.5.0-bin-hadoop2.6/python/lib/pyspark.zip/pyspark/worker.py\", line 106, in process\n    serializer.dump_stream(func(split_index, iterator), outfile)\n  File \"/Users/jonathandinu/spark-1.5.0-bin-hadoop2.6/python/pyspark/rdd.py\", line 2352, in pipeline_func\n    return func(split, prev_func(split, iterator))\n  File \"/Users/jonathandinu/spark-1.5.0-bin-hadoop2.6/python/pyspark/rdd.py\", line 2352, in pipeline_func\n    return func(split, prev_func(split, iterator))\n  File \"/Users/jonathandinu/spark-1.5.0-bin-hadoop2.6/python/pyspark/rdd.py\", line 2352, in pipeline_func\n    return func(split, prev_func(split, iterator))\n  File \"/Users/jonathandinu/spark-1.5.0-bin-hadoop2.6/python/pyspark/rdd.py\", line 2352, in pipeline_func\n    return func(split, prev_func(split, iterator))\n  File \"/Users/jonathandinu/spark-1.5.0-bin-hadoop2.6/python/pyspark/rdd.py\", line 317, in func\n    return f(iterator)\n  File \"/Users/jonathandinu/spark-1.5.0-bin-hadoop2.6/python/pyspark/rdd.py\", line 747, in processPartition\n    f(x)\n  File \"<ipython-input-25-38ffb2b4bfea>\", line 10, in throw_exception\nRowSplitException: [(u'_projectid', u'\"\"\"cf841ea7e1bda85b3426465238577311\"\"\"'),\n (u'_teacher_acctid', u'\"\"\"e4e5065e2512062b663cf799d6a8d95f\"\"\"'),\n (u'_schoolid', u'\"\"\"2e472567a2c3890e536302e1461c3a3e\"\"\"'),\n (u'school_ncesid', u'\"\"'),\n (u'school_latitude', u'40.714550'),\n (u'school_longitude', u'-74.007125'),\n (u'school_city', u'\"Bronx'),\n (u'school_state', u' N.Y.\"'),\n (u'school_zip', u'NY'),\n (u'school_metro', u'10473'),\n (u'school_district', u''),\n (u'school_county', u'Leadership Learning Support Organization'),\n (u'school_charter', u'Bronx'),\n (u'school_magnet', u'f'),\n (u'school_year_round', u'f'),\n (u'school_nlns', u'f'),\n (u'school_kipp', u'f'),\n (u'school_charter_ready_promise', u'f'),\n (u'teacher_prefix', u'f'),\n (u'teacher_teach_for_america', u'Mrs.'),\n (u'teacher_ny_teaching_fellow', u'f'),\n (u'primary_focus_subject', u'f'),\n (u'primary_focus_area', u'Literacy'),\n (u'secondary_focus_subject', u'Literacy & Language'),\n (u'secondary_focus_area', u''),\n (u'resource_type', u''),\n (u'poverty_level', u'Other'),\n (u'grade_level', u'highest poverty'),\n (u'vendor_shipping_charges', u'Grades PreK-2'),\n (u'sales_tax', u'20.88'),\n (u'payment_processing_charges', u'0.00'),\n (u'fulfillment_labor_materials', u'5.22'),\n (u'total_price_excluding_optional_support', u'17.00'),\n (u'total_price_including_optional_support', u'252.00'),\n (u'students_reached', u'307.32'),\n (u'total_donations', u'22'),\n (u'num_donors', u'0.00'),\n (u'eligible_double_your_impact_match', u'0'),\n (u'eligible_almost_home_match', u'f'),\n (u'funding_status', u'f'),\n (u'date_posted', u'expired'),\n (u'date_completed', u'2008-01-31'),\n (u'date_thank_you_packet_mailed', u''),\n (u'date_expiration', u'')]\n\n\tat org.apache.spark.api.python.PythonRDD$$anon$1.read(PythonRDD.scala:138)\n\tat org.apache.spark.api.python.PythonRDD$$anon$1.<init>(PythonRDD.scala:179)\n\tat org.apache.spark.api.python.PythonRDD.compute(PythonRDD.scala:97)\n\tat org.apache.spark.rdd.RDD.computeOrReadCheckpoint(RDD.scala:297)\n\tat org.apache.spark.rdd.RDD.iterator(RDD.scala:264)\n\tat org.apache.spark.scheduler.ResultTask.runTask(ResultTask.scala:66)\n\tat org.apache.spark.scheduler.Task.run(Task.scala:88)\n\tat org.apache.spark.executor.Executor$TaskRunner.run(Executor.scala:214)\n\tat java.util.concurrent.ThreadPoolExecutor.runWorker(ThreadPoolExecutor.java:1142)\n\tat java.util.concurrent.ThreadPoolExecutor$Worker.run(ThreadPoolExecutor.java:617)\n\tat java.lang.Thread.run(Thread.java:745)\n\nDriver stacktrace:\n\tat org.apache.spark.scheduler.DAGScheduler.org$apache$spark$scheduler$DAGScheduler$$failJobAndIndependentStages(DAGScheduler.scala:1280)\n\tat org.apache.spark.scheduler.DAGScheduler$$anonfun$abortStage$1.apply(DAGScheduler.scala:1268)\n\tat org.apache.spark.scheduler.DAGScheduler$$anonfun$abortStage$1.apply(DAGScheduler.scala:1267)\n\tat scala.collection.mutable.ResizableArray$class.foreach(ResizableArray.scala:59)\n\tat scala.collection.mutable.ArrayBuffer.foreach(ArrayBuffer.scala:47)\n\tat org.apache.spark.scheduler.DAGScheduler.abortStage(DAGScheduler.scala:1267)\n\tat org.apache.spark.scheduler.DAGScheduler$$anonfun$handleTaskSetFailed$1.apply(DAGScheduler.scala:697)\n\tat org.apache.spark.scheduler.DAGScheduler$$anonfun$handleTaskSetFailed$1.apply(DAGScheduler.scala:697)\n\tat scala.Option.foreach(Option.scala:236)\n\tat org.apache.spark.scheduler.DAGScheduler.handleTaskSetFailed(DAGScheduler.scala:697)\n\tat org.apache.spark.scheduler.DAGSchedulerEventProcessLoop.doOnReceive(DAGScheduler.scala:1493)\n\tat org.apache.spark.scheduler.DAGSchedulerEventProcessLoop.onReceive(DAGScheduler.scala:1455)\n\tat org.apache.spark.scheduler.DAGSchedulerEventProcessLoop.onReceive(DAGScheduler.scala:1444)\n\tat org.apache.spark.util.EventLoop$$anon$1.run(EventLoop.scala:48)\n\tat org.apache.spark.scheduler.DAGScheduler.runJob(DAGScheduler.scala:567)\n\tat org.apache.spark.SparkContext.runJob(SparkContext.scala:1813)\n\tat org.apache.spark.SparkContext.runJob(SparkContext.scala:1826)\n\tat org.apache.spark.SparkContext.runJob(SparkContext.scala:1839)\n\tat org.apache.spark.SparkContext.runJob(SparkContext.scala:1910)\n\tat org.apache.spark.rdd.RDD$$anonfun$collect$1.apply(RDD.scala:905)\n\tat org.apache.spark.rdd.RDDOperationScope$.withScope(RDDOperationScope.scala:147)\n\tat org.apache.spark.rdd.RDDOperationScope$.withScope(RDDOperationScope.scala:108)\n\tat org.apache.spark.rdd.RDD.withScope(RDD.scala:306)\n\tat org.apache.spark.rdd.RDD.collect(RDD.scala:904)\n\tat org.apache.spark.api.python.PythonRDD$.collectAndServe(PythonRDD.scala:373)\n\tat org.apache.spark.api.python.PythonRDD.collectAndServe(PythonRDD.scala)\n\tat sun.reflect.NativeMethodAccessorImpl.invoke0(Native Method)\n\tat sun.reflect.NativeMethodAccessorImpl.invoke(NativeMethodAccessorImpl.java:62)\n\tat sun.reflect.DelegatingMethodAccessorImpl.invoke(DelegatingMethodAccessorImpl.java:43)\n\tat java.lang.reflect.Method.invoke(Method.java:497)\n\tat py4j.reflection.MethodInvoker.invoke(MethodInvoker.java:231)\n\tat py4j.reflection.ReflectionEngine.invoke(ReflectionEngine.java:379)\n\tat py4j.Gateway.invoke(Gateway.java:259)\n\tat py4j.commands.AbstractCommand.invokeMethod(AbstractCommand.java:133)\n\tat py4j.commands.CallCommand.execute(CallCommand.java:79)\n\tat py4j.GatewayConnection.run(GatewayConnection.java:207)\n\tat java.lang.Thread.run(Thread.java:745)\nCaused by: org.apache.spark.api.python.PythonException: Traceback (most recent call last):\n  File \"/Users/jonathandinu/spark-1.5.0-bin-hadoop2.6/python/lib/pyspark.zip/pyspark/worker.py\", line 111, in main\n    process()\n  File \"/Users/jonathandinu/spark-1.5.0-bin-hadoop2.6/python/lib/pyspark.zip/pyspark/worker.py\", line 106, in process\n    serializer.dump_stream(func(split_index, iterator), outfile)\n  File \"/Users/jonathandinu/spark-1.5.0-bin-hadoop2.6/python/pyspark/rdd.py\", line 2352, in pipeline_func\n    return func(split, prev_func(split, iterator))\n  File \"/Users/jonathandinu/spark-1.5.0-bin-hadoop2.6/python/pyspark/rdd.py\", line 2352, in pipeline_func\n    return func(split, prev_func(split, iterator))\n  File \"/Users/jonathandinu/spark-1.5.0-bin-hadoop2.6/python/pyspark/rdd.py\", line 2352, in pipeline_func\n    return func(split, prev_func(split, iterator))\n  File \"/Users/jonathandinu/spark-1.5.0-bin-hadoop2.6/python/pyspark/rdd.py\", line 2352, in pipeline_func\n    return func(split, prev_func(split, iterator))\n  File \"/Users/jonathandinu/spark-1.5.0-bin-hadoop2.6/python/pyspark/rdd.py\", line 317, in func\n    return f(iterator)\n  File \"/Users/jonathandinu/spark-1.5.0-bin-hadoop2.6/python/pyspark/rdd.py\", line 747, in processPartition\n    f(x)\n  File \"<ipython-input-25-38ffb2b4bfea>\", line 10, in throw_exception\nRowSplitException: [(u'_projectid', u'\"\"\"cf841ea7e1bda85b3426465238577311\"\"\"'),\n (u'_teacher_acctid', u'\"\"\"e4e5065e2512062b663cf799d6a8d95f\"\"\"'),\n (u'_schoolid', u'\"\"\"2e472567a2c3890e536302e1461c3a3e\"\"\"'),\n (u'school_ncesid', u'\"\"'),\n (u'school_latitude', u'40.714550'),\n (u'school_longitude', u'-74.007125'),\n (u'school_city', u'\"Bronx'),\n (u'school_state', u' N.Y.\"'),\n (u'school_zip', u'NY'),\n (u'school_metro', u'10473'),\n (u'school_district', u''),\n (u'school_county', u'Leadership Learning Support Organization'),\n (u'school_charter', u'Bronx'),\n (u'school_magnet', u'f'),\n (u'school_year_round', u'f'),\n (u'school_nlns', u'f'),\n (u'school_kipp', u'f'),\n (u'school_charter_ready_promise', u'f'),\n (u'teacher_prefix', u'f'),\n (u'teacher_teach_for_america', u'Mrs.'),\n (u'teacher_ny_teaching_fellow', u'f'),\n (u'primary_focus_subject', u'f'),\n (u'primary_focus_area', u'Literacy'),\n (u'secondary_focus_subject', u'Literacy & Language'),\n (u'secondary_focus_area', u''),\n (u'resource_type', u''),\n (u'poverty_level', u'Other'),\n (u'grade_level', u'highest poverty'),\n (u'vendor_shipping_charges', u'Grades PreK-2'),\n (u'sales_tax', u'20.88'),\n (u'payment_processing_charges', u'0.00'),\n (u'fulfillment_labor_materials', u'5.22'),\n (u'total_price_excluding_optional_support', u'17.00'),\n (u'total_price_including_optional_support', u'252.00'),\n (u'students_reached', u'307.32'),\n (u'total_donations', u'22'),\n (u'num_donors', u'0.00'),\n (u'eligible_double_your_impact_match', u'0'),\n (u'eligible_almost_home_match', u'f'),\n (u'funding_status', u'f'),\n (u'date_posted', u'expired'),\n (u'date_completed', u'2008-01-31'),\n (u'date_thank_you_packet_mailed', u''),\n (u'date_expiration', u'')]\n\n\tat org.apache.spark.api.python.PythonRDD$$anon$1.read(PythonRDD.scala:138)\n\tat org.apache.spark.api.python.PythonRDD$$anon$1.<init>(PythonRDD.scala:179)\n\tat org.apache.spark.api.python.PythonRDD.compute(PythonRDD.scala:97)\n\tat org.apache.spark.rdd.RDD.computeOrReadCheckpoint(RDD.scala:297)\n\tat org.apache.spark.rdd.RDD.iterator(RDD.scala:264)\n\tat org.apache.spark.scheduler.ResultTask.runTask(ResultTask.scala:66)\n\tat org.apache.spark.scheduler.Task.run(Task.scala:88)\n\tat org.apache.spark.executor.Executor$TaskRunner.run(Executor.scala:214)\n\tat java.util.concurrent.ThreadPoolExecutor.runWorker(ThreadPoolExecutor.java:1142)\n\tat java.util.concurrent.ThreadPoolExecutor$Worker.run(ThreadPoolExecutor.java:617)\n\t... 1 more\n",
     "output_type": "error",
     "traceback": [
      "\u001b[0;31m---------------------------------------------------------------------------\u001b[0m",
      "\u001b[0;31mPy4JJavaError\u001b[0m                             Traceback (most recent call last)",
      "\u001b[0;32m<ipython-input-25-38ffb2b4bfea>\u001b[0m in \u001b[0;36m<module>\u001b[0;34m()\u001b[0m\n\u001b[1;32m     12\u001b[0m         \u001b[0;32mpass\u001b[0m\u001b[0;34m\u001b[0m\u001b[0m\n\u001b[1;32m     13\u001b[0m \u001b[0;34m\u001b[0m\u001b[0m\n\u001b[0;32m---> 14\u001b[0;31m \u001b[0mrdd_csv\u001b[0m\u001b[0;34m.\u001b[0m\u001b[0mforeach\u001b[0m\u001b[0;34m(\u001b[0m\u001b[0mthrow_exception\u001b[0m\u001b[0;34m)\u001b[0m\u001b[0;34m\u001b[0m\u001b[0m\n\u001b[0m",
      "\u001b[0;32m/Users/jonathandinu/spark-1.5.0-bin-hadoop2.6/python/pyspark/rdd.pyc\u001b[0m in \u001b[0;36mforeach\u001b[0;34m(self, f)\u001b[0m\n\u001b[1;32m    747\u001b[0m                 \u001b[0mf\u001b[0m\u001b[0;34m(\u001b[0m\u001b[0mx\u001b[0m\u001b[0;34m)\u001b[0m\u001b[0;34m\u001b[0m\u001b[0m\n\u001b[1;32m    748\u001b[0m             \u001b[0;32mreturn\u001b[0m \u001b[0miter\u001b[0m\u001b[0;34m(\u001b[0m\u001b[0;34m[\u001b[0m\u001b[0;34m]\u001b[0m\u001b[0;34m)\u001b[0m\u001b[0;34m\u001b[0m\u001b[0m\n\u001b[0;32m--> 749\u001b[0;31m         \u001b[0mself\u001b[0m\u001b[0;34m.\u001b[0m\u001b[0mmapPartitions\u001b[0m\u001b[0;34m(\u001b[0m\u001b[0mprocessPartition\u001b[0m\u001b[0;34m)\u001b[0m\u001b[0;34m.\u001b[0m\u001b[0mcount\u001b[0m\u001b[0;34m(\u001b[0m\u001b[0;34m)\u001b[0m  \u001b[0;31m# Force evaluation\u001b[0m\u001b[0;34m\u001b[0m\u001b[0m\n\u001b[0m\u001b[1;32m    750\u001b[0m \u001b[0;34m\u001b[0m\u001b[0m\n\u001b[1;32m    751\u001b[0m     \u001b[0;32mdef\u001b[0m \u001b[0mforeachPartition\u001b[0m\u001b[0;34m(\u001b[0m\u001b[0mself\u001b[0m\u001b[0;34m,\u001b[0m \u001b[0mf\u001b[0m\u001b[0;34m)\u001b[0m\u001b[0;34m:\u001b[0m\u001b[0;34m\u001b[0m\u001b[0m\n",
      "\u001b[0;32m/Users/jonathandinu/spark-1.5.0-bin-hadoop2.6/python/pyspark/rdd.pyc\u001b[0m in \u001b[0;36mcount\u001b[0;34m(self)\u001b[0m\n\u001b[1;32m   1004\u001b[0m         \u001b[0;36m3\u001b[0m\u001b[0;34m\u001b[0m\u001b[0m\n\u001b[1;32m   1005\u001b[0m         \"\"\"\n\u001b[0;32m-> 1006\u001b[0;31m         \u001b[0;32mreturn\u001b[0m \u001b[0mself\u001b[0m\u001b[0;34m.\u001b[0m\u001b[0mmapPartitions\u001b[0m\u001b[0;34m(\u001b[0m\u001b[0;32mlambda\u001b[0m \u001b[0mi\u001b[0m\u001b[0;34m:\u001b[0m \u001b[0;34m[\u001b[0m\u001b[0msum\u001b[0m\u001b[0;34m(\u001b[0m\u001b[0;36m1\u001b[0m \u001b[0;32mfor\u001b[0m \u001b[0m_\u001b[0m \u001b[0;32min\u001b[0m \u001b[0mi\u001b[0m\u001b[0;34m)\u001b[0m\u001b[0;34m]\u001b[0m\u001b[0;34m)\u001b[0m\u001b[0;34m.\u001b[0m\u001b[0msum\u001b[0m\u001b[0;34m(\u001b[0m\u001b[0;34m)\u001b[0m\u001b[0;34m\u001b[0m\u001b[0m\n\u001b[0m\u001b[1;32m   1007\u001b[0m \u001b[0;34m\u001b[0m\u001b[0m\n\u001b[1;32m   1008\u001b[0m     \u001b[0;32mdef\u001b[0m \u001b[0mstats\u001b[0m\u001b[0;34m(\u001b[0m\u001b[0mself\u001b[0m\u001b[0;34m)\u001b[0m\u001b[0;34m:\u001b[0m\u001b[0;34m\u001b[0m\u001b[0m\n",
      "\u001b[0;32m/Users/jonathandinu/spark-1.5.0-bin-hadoop2.6/python/pyspark/rdd.pyc\u001b[0m in \u001b[0;36msum\u001b[0;34m(self)\u001b[0m\n\u001b[1;32m    995\u001b[0m         \u001b[0;36m6.0\u001b[0m\u001b[0;34m\u001b[0m\u001b[0m\n\u001b[1;32m    996\u001b[0m         \"\"\"\n\u001b[0;32m--> 997\u001b[0;31m         \u001b[0;32mreturn\u001b[0m \u001b[0mself\u001b[0m\u001b[0;34m.\u001b[0m\u001b[0mmapPartitions\u001b[0m\u001b[0;34m(\u001b[0m\u001b[0;32mlambda\u001b[0m \u001b[0mx\u001b[0m\u001b[0;34m:\u001b[0m \u001b[0;34m[\u001b[0m\u001b[0msum\u001b[0m\u001b[0;34m(\u001b[0m\u001b[0mx\u001b[0m\u001b[0;34m)\u001b[0m\u001b[0;34m]\u001b[0m\u001b[0;34m)\u001b[0m\u001b[0;34m.\u001b[0m\u001b[0mfold\u001b[0m\u001b[0;34m(\u001b[0m\u001b[0;36m0\u001b[0m\u001b[0;34m,\u001b[0m \u001b[0moperator\u001b[0m\u001b[0;34m.\u001b[0m\u001b[0madd\u001b[0m\u001b[0;34m)\u001b[0m\u001b[0;34m\u001b[0m\u001b[0m\n\u001b[0m\u001b[1;32m    998\u001b[0m \u001b[0;34m\u001b[0m\u001b[0m\n\u001b[1;32m    999\u001b[0m     \u001b[0;32mdef\u001b[0m \u001b[0mcount\u001b[0m\u001b[0;34m(\u001b[0m\u001b[0mself\u001b[0m\u001b[0;34m)\u001b[0m\u001b[0;34m:\u001b[0m\u001b[0;34m\u001b[0m\u001b[0m\n",
      "\u001b[0;32m/Users/jonathandinu/spark-1.5.0-bin-hadoop2.6/python/pyspark/rdd.pyc\u001b[0m in \u001b[0;36mfold\u001b[0;34m(self, zeroValue, op)\u001b[0m\n\u001b[1;32m    869\u001b[0m         \u001b[0;31m# zeroValue provided to each partition is unique from the one provided\u001b[0m\u001b[0;34m\u001b[0m\u001b[0;34m\u001b[0m\u001b[0m\n\u001b[1;32m    870\u001b[0m         \u001b[0;31m# to the final reduce call\u001b[0m\u001b[0;34m\u001b[0m\u001b[0;34m\u001b[0m\u001b[0m\n\u001b[0;32m--> 871\u001b[0;31m         \u001b[0mvals\u001b[0m \u001b[0;34m=\u001b[0m \u001b[0mself\u001b[0m\u001b[0;34m.\u001b[0m\u001b[0mmapPartitions\u001b[0m\u001b[0;34m(\u001b[0m\u001b[0mfunc\u001b[0m\u001b[0;34m)\u001b[0m\u001b[0;34m.\u001b[0m\u001b[0mcollect\u001b[0m\u001b[0;34m(\u001b[0m\u001b[0;34m)\u001b[0m\u001b[0;34m\u001b[0m\u001b[0m\n\u001b[0m\u001b[1;32m    872\u001b[0m         \u001b[0;32mreturn\u001b[0m \u001b[0mreduce\u001b[0m\u001b[0;34m(\u001b[0m\u001b[0mop\u001b[0m\u001b[0;34m,\u001b[0m \u001b[0mvals\u001b[0m\u001b[0;34m,\u001b[0m \u001b[0mzeroValue\u001b[0m\u001b[0;34m)\u001b[0m\u001b[0;34m\u001b[0m\u001b[0m\n\u001b[1;32m    873\u001b[0m \u001b[0;34m\u001b[0m\u001b[0m\n",
      "\u001b[0;32m/Users/jonathandinu/spark-1.5.0-bin-hadoop2.6/python/pyspark/rdd.pyc\u001b[0m in \u001b[0;36mcollect\u001b[0;34m(self)\u001b[0m\n\u001b[1;32m    771\u001b[0m         \"\"\"\n\u001b[1;32m    772\u001b[0m         \u001b[0;32mwith\u001b[0m \u001b[0mSCCallSiteSync\u001b[0m\u001b[0;34m(\u001b[0m\u001b[0mself\u001b[0m\u001b[0;34m.\u001b[0m\u001b[0mcontext\u001b[0m\u001b[0;34m)\u001b[0m \u001b[0;32mas\u001b[0m \u001b[0mcss\u001b[0m\u001b[0;34m:\u001b[0m\u001b[0;34m\u001b[0m\u001b[0m\n\u001b[0;32m--> 773\u001b[0;31m             \u001b[0mport\u001b[0m \u001b[0;34m=\u001b[0m \u001b[0mself\u001b[0m\u001b[0;34m.\u001b[0m\u001b[0mctx\u001b[0m\u001b[0;34m.\u001b[0m\u001b[0m_jvm\u001b[0m\u001b[0;34m.\u001b[0m\u001b[0mPythonRDD\u001b[0m\u001b[0;34m.\u001b[0m\u001b[0mcollectAndServe\u001b[0m\u001b[0;34m(\u001b[0m\u001b[0mself\u001b[0m\u001b[0;34m.\u001b[0m\u001b[0m_jrdd\u001b[0m\u001b[0;34m.\u001b[0m\u001b[0mrdd\u001b[0m\u001b[0;34m(\u001b[0m\u001b[0;34m)\u001b[0m\u001b[0;34m)\u001b[0m\u001b[0;34m\u001b[0m\u001b[0m\n\u001b[0m\u001b[1;32m    774\u001b[0m         \u001b[0;32mreturn\u001b[0m \u001b[0mlist\u001b[0m\u001b[0;34m(\u001b[0m\u001b[0m_load_from_socket\u001b[0m\u001b[0;34m(\u001b[0m\u001b[0mport\u001b[0m\u001b[0;34m,\u001b[0m \u001b[0mself\u001b[0m\u001b[0;34m.\u001b[0m\u001b[0m_jrdd_deserializer\u001b[0m\u001b[0;34m)\u001b[0m\u001b[0;34m)\u001b[0m\u001b[0;34m\u001b[0m\u001b[0m\n\u001b[1;32m    775\u001b[0m \u001b[0;34m\u001b[0m\u001b[0m\n",
      "\u001b[0;32m/usr/local/lib/python2.7/site-packages/py4j/java_gateway.pyc\u001b[0m in \u001b[0;36m__call__\u001b[0;34m(self, *args)\u001b[0m\n\u001b[1;32m    811\u001b[0m         \u001b[0manswer\u001b[0m \u001b[0;34m=\u001b[0m \u001b[0mself\u001b[0m\u001b[0;34m.\u001b[0m\u001b[0mgateway_client\u001b[0m\u001b[0;34m.\u001b[0m\u001b[0msend_command\u001b[0m\u001b[0;34m(\u001b[0m\u001b[0mcommand\u001b[0m\u001b[0;34m)\u001b[0m\u001b[0;34m\u001b[0m\u001b[0m\n\u001b[1;32m    812\u001b[0m         return_value = get_return_value(\n\u001b[0;32m--> 813\u001b[0;31m             answer, self.gateway_client, self.target_id, self.name)\n\u001b[0m\u001b[1;32m    814\u001b[0m \u001b[0;34m\u001b[0m\u001b[0m\n\u001b[1;32m    815\u001b[0m         \u001b[0;32mfor\u001b[0m \u001b[0mtemp_arg\u001b[0m \u001b[0;32min\u001b[0m \u001b[0mtemp_args\u001b[0m\u001b[0;34m:\u001b[0m\u001b[0;34m\u001b[0m\u001b[0m\n",
      "\u001b[0;32m/usr/local/lib/python2.7/site-packages/py4j/protocol.pyc\u001b[0m in \u001b[0;36mget_return_value\u001b[0;34m(answer, gateway_client, target_id, name)\u001b[0m\n\u001b[1;32m    306\u001b[0m                 raise Py4JJavaError(\n\u001b[1;32m    307\u001b[0m                     \u001b[0;34m\"An error occurred while calling {0}{1}{2}.\\n\"\u001b[0m\u001b[0;34m.\u001b[0m\u001b[0;34m\u001b[0m\u001b[0m\n\u001b[0;32m--> 308\u001b[0;31m                     format(target_id, \".\", name), value)\n\u001b[0m\u001b[1;32m    309\u001b[0m             \u001b[0;32melse\u001b[0m\u001b[0;34m:\u001b[0m\u001b[0;34m\u001b[0m\u001b[0m\n\u001b[1;32m    310\u001b[0m                 raise Py4JError(\n",
      "\u001b[0;31mPy4JJavaError\u001b[0m: An error occurred while calling z:org.apache.spark.api.python.PythonRDD.collectAndServe.\n: org.apache.spark.SparkException: Job aborted due to stage failure: Task 0 in stage 12.0 failed 1 times, most recent failure: Lost task 0.0 in stage 12.0 (TID 12, localhost): org.apache.spark.api.python.PythonException: Traceback (most recent call last):\n  File \"/Users/jonathandinu/spark-1.5.0-bin-hadoop2.6/python/lib/pyspark.zip/pyspark/worker.py\", line 111, in main\n    process()\n  File \"/Users/jonathandinu/spark-1.5.0-bin-hadoop2.6/python/lib/pyspark.zip/pyspark/worker.py\", line 106, in process\n    serializer.dump_stream(func(split_index, iterator), outfile)\n  File \"/Users/jonathandinu/spark-1.5.0-bin-hadoop2.6/python/pyspark/rdd.py\", line 2352, in pipeline_func\n    return func(split, prev_func(split, iterator))\n  File \"/Users/jonathandinu/spark-1.5.0-bin-hadoop2.6/python/pyspark/rdd.py\", line 2352, in pipeline_func\n    return func(split, prev_func(split, iterator))\n  File \"/Users/jonathandinu/spark-1.5.0-bin-hadoop2.6/python/pyspark/rdd.py\", line 2352, in pipeline_func\n    return func(split, prev_func(split, iterator))\n  File \"/Users/jonathandinu/spark-1.5.0-bin-hadoop2.6/python/pyspark/rdd.py\", line 2352, in pipeline_func\n    return func(split, prev_func(split, iterator))\n  File \"/Users/jonathandinu/spark-1.5.0-bin-hadoop2.6/python/pyspark/rdd.py\", line 317, in func\n    return f(iterator)\n  File \"/Users/jonathandinu/spark-1.5.0-bin-hadoop2.6/python/pyspark/rdd.py\", line 747, in processPartition\n    f(x)\n  File \"<ipython-input-25-38ffb2b4bfea>\", line 10, in throw_exception\nRowSplitException: [(u'_projectid', u'\"\"\"cf841ea7e1bda85b3426465238577311\"\"\"'),\n (u'_teacher_acctid', u'\"\"\"e4e5065e2512062b663cf799d6a8d95f\"\"\"'),\n (u'_schoolid', u'\"\"\"2e472567a2c3890e536302e1461c3a3e\"\"\"'),\n (u'school_ncesid', u'\"\"'),\n (u'school_latitude', u'40.714550'),\n (u'school_longitude', u'-74.007125'),\n (u'school_city', u'\"Bronx'),\n (u'school_state', u' N.Y.\"'),\n (u'school_zip', u'NY'),\n (u'school_metro', u'10473'),\n (u'school_district', u''),\n (u'school_county', u'Leadership Learning Support Organization'),\n (u'school_charter', u'Bronx'),\n (u'school_magnet', u'f'),\n (u'school_year_round', u'f'),\n (u'school_nlns', u'f'),\n (u'school_kipp', u'f'),\n (u'school_charter_ready_promise', u'f'),\n (u'teacher_prefix', u'f'),\n (u'teacher_teach_for_america', u'Mrs.'),\n (u'teacher_ny_teaching_fellow', u'f'),\n (u'primary_focus_subject', u'f'),\n (u'primary_focus_area', u'Literacy'),\n (u'secondary_focus_subject', u'Literacy & Language'),\n (u'secondary_focus_area', u''),\n (u'resource_type', u''),\n (u'poverty_level', u'Other'),\n (u'grade_level', u'highest poverty'),\n (u'vendor_shipping_charges', u'Grades PreK-2'),\n (u'sales_tax', u'20.88'),\n (u'payment_processing_charges', u'0.00'),\n (u'fulfillment_labor_materials', u'5.22'),\n (u'total_price_excluding_optional_support', u'17.00'),\n (u'total_price_including_optional_support', u'252.00'),\n (u'students_reached', u'307.32'),\n (u'total_donations', u'22'),\n (u'num_donors', u'0.00'),\n (u'eligible_double_your_impact_match', u'0'),\n (u'eligible_almost_home_match', u'f'),\n (u'funding_status', u'f'),\n (u'date_posted', u'expired'),\n (u'date_completed', u'2008-01-31'),\n (u'date_thank_you_packet_mailed', u''),\n (u'date_expiration', u'')]\n\n\tat org.apache.spark.api.python.PythonRDD$$anon$1.read(PythonRDD.scala:138)\n\tat org.apache.spark.api.python.PythonRDD$$anon$1.<init>(PythonRDD.scala:179)\n\tat org.apache.spark.api.python.PythonRDD.compute(PythonRDD.scala:97)\n\tat org.apache.spark.rdd.RDD.computeOrReadCheckpoint(RDD.scala:297)\n\tat org.apache.spark.rdd.RDD.iterator(RDD.scala:264)\n\tat org.apache.spark.scheduler.ResultTask.runTask(ResultTask.scala:66)\n\tat org.apache.spark.scheduler.Task.run(Task.scala:88)\n\tat org.apache.spark.executor.Executor$TaskRunner.run(Executor.scala:214)\n\tat java.util.concurrent.ThreadPoolExecutor.runWorker(ThreadPoolExecutor.java:1142)\n\tat java.util.concurrent.ThreadPoolExecutor$Worker.run(ThreadPoolExecutor.java:617)\n\tat java.lang.Thread.run(Thread.java:745)\n\nDriver stacktrace:\n\tat org.apache.spark.scheduler.DAGScheduler.org$apache$spark$scheduler$DAGScheduler$$failJobAndIndependentStages(DAGScheduler.scala:1280)\n\tat org.apache.spark.scheduler.DAGScheduler$$anonfun$abortStage$1.apply(DAGScheduler.scala:1268)\n\tat org.apache.spark.scheduler.DAGScheduler$$anonfun$abortStage$1.apply(DAGScheduler.scala:1267)\n\tat scala.collection.mutable.ResizableArray$class.foreach(ResizableArray.scala:59)\n\tat scala.collection.mutable.ArrayBuffer.foreach(ArrayBuffer.scala:47)\n\tat org.apache.spark.scheduler.DAGScheduler.abortStage(DAGScheduler.scala:1267)\n\tat org.apache.spark.scheduler.DAGScheduler$$anonfun$handleTaskSetFailed$1.apply(DAGScheduler.scala:697)\n\tat org.apache.spark.scheduler.DAGScheduler$$anonfun$handleTaskSetFailed$1.apply(DAGScheduler.scala:697)\n\tat scala.Option.foreach(Option.scala:236)\n\tat org.apache.spark.scheduler.DAGScheduler.handleTaskSetFailed(DAGScheduler.scala:697)\n\tat org.apache.spark.scheduler.DAGSchedulerEventProcessLoop.doOnReceive(DAGScheduler.scala:1493)\n\tat org.apache.spark.scheduler.DAGSchedulerEventProcessLoop.onReceive(DAGScheduler.scala:1455)\n\tat org.apache.spark.scheduler.DAGSchedulerEventProcessLoop.onReceive(DAGScheduler.scala:1444)\n\tat org.apache.spark.util.EventLoop$$anon$1.run(EventLoop.scala:48)\n\tat org.apache.spark.scheduler.DAGScheduler.runJob(DAGScheduler.scala:567)\n\tat org.apache.spark.SparkContext.runJob(SparkContext.scala:1813)\n\tat org.apache.spark.SparkContext.runJob(SparkContext.scala:1826)\n\tat org.apache.spark.SparkContext.runJob(SparkContext.scala:1839)\n\tat org.apache.spark.SparkContext.runJob(SparkContext.scala:1910)\n\tat org.apache.spark.rdd.RDD$$anonfun$collect$1.apply(RDD.scala:905)\n\tat org.apache.spark.rdd.RDDOperationScope$.withScope(RDDOperationScope.scala:147)\n\tat org.apache.spark.rdd.RDDOperationScope$.withScope(RDDOperationScope.scala:108)\n\tat org.apache.spark.rdd.RDD.withScope(RDD.scala:306)\n\tat org.apache.spark.rdd.RDD.collect(RDD.scala:904)\n\tat org.apache.spark.api.python.PythonRDD$.collectAndServe(PythonRDD.scala:373)\n\tat org.apache.spark.api.python.PythonRDD.collectAndServe(PythonRDD.scala)\n\tat sun.reflect.NativeMethodAccessorImpl.invoke0(Native Method)\n\tat sun.reflect.NativeMethodAccessorImpl.invoke(NativeMethodAccessorImpl.java:62)\n\tat sun.reflect.DelegatingMethodAccessorImpl.invoke(DelegatingMethodAccessorImpl.java:43)\n\tat java.lang.reflect.Method.invoke(Method.java:497)\n\tat py4j.reflection.MethodInvoker.invoke(MethodInvoker.java:231)\n\tat py4j.reflection.ReflectionEngine.invoke(ReflectionEngine.java:379)\n\tat py4j.Gateway.invoke(Gateway.java:259)\n\tat py4j.commands.AbstractCommand.invokeMethod(AbstractCommand.java:133)\n\tat py4j.commands.CallCommand.execute(CallCommand.java:79)\n\tat py4j.GatewayConnection.run(GatewayConnection.java:207)\n\tat java.lang.Thread.run(Thread.java:745)\nCaused by: org.apache.spark.api.python.PythonException: Traceback (most recent call last):\n  File \"/Users/jonathandinu/spark-1.5.0-bin-hadoop2.6/python/lib/pyspark.zip/pyspark/worker.py\", line 111, in main\n    process()\n  File \"/Users/jonathandinu/spark-1.5.0-bin-hadoop2.6/python/lib/pyspark.zip/pyspark/worker.py\", line 106, in process\n    serializer.dump_stream(func(split_index, iterator), outfile)\n  File \"/Users/jonathandinu/spark-1.5.0-bin-hadoop2.6/python/pyspark/rdd.py\", line 2352, in pipeline_func\n    return func(split, prev_func(split, iterator))\n  File \"/Users/jonathandinu/spark-1.5.0-bin-hadoop2.6/python/pyspark/rdd.py\", line 2352, in pipeline_func\n    return func(split, prev_func(split, iterator))\n  File \"/Users/jonathandinu/spark-1.5.0-bin-hadoop2.6/python/pyspark/rdd.py\", line 2352, in pipeline_func\n    return func(split, prev_func(split, iterator))\n  File \"/Users/jonathandinu/spark-1.5.0-bin-hadoop2.6/python/pyspark/rdd.py\", line 2352, in pipeline_func\n    return func(split, prev_func(split, iterator))\n  File \"/Users/jonathandinu/spark-1.5.0-bin-hadoop2.6/python/pyspark/rdd.py\", line 317, in func\n    return f(iterator)\n  File \"/Users/jonathandinu/spark-1.5.0-bin-hadoop2.6/python/pyspark/rdd.py\", line 747, in processPartition\n    f(x)\n  File \"<ipython-input-25-38ffb2b4bfea>\", line 10, in throw_exception\nRowSplitException: [(u'_projectid', u'\"\"\"cf841ea7e1bda85b3426465238577311\"\"\"'),\n (u'_teacher_acctid', u'\"\"\"e4e5065e2512062b663cf799d6a8d95f\"\"\"'),\n (u'_schoolid', u'\"\"\"2e472567a2c3890e536302e1461c3a3e\"\"\"'),\n (u'school_ncesid', u'\"\"'),\n (u'school_latitude', u'40.714550'),\n (u'school_longitude', u'-74.007125'),\n (u'school_city', u'\"Bronx'),\n (u'school_state', u' N.Y.\"'),\n (u'school_zip', u'NY'),\n (u'school_metro', u'10473'),\n (u'school_district', u''),\n (u'school_county', u'Leadership Learning Support Organization'),\n (u'school_charter', u'Bronx'),\n (u'school_magnet', u'f'),\n (u'school_year_round', u'f'),\n (u'school_nlns', u'f'),\n (u'school_kipp', u'f'),\n (u'school_charter_ready_promise', u'f'),\n (u'teacher_prefix', u'f'),\n (u'teacher_teach_for_america', u'Mrs.'),\n (u'teacher_ny_teaching_fellow', u'f'),\n (u'primary_focus_subject', u'f'),\n (u'primary_focus_area', u'Literacy'),\n (u'secondary_focus_subject', u'Literacy & Language'),\n (u'secondary_focus_area', u''),\n (u'resource_type', u''),\n (u'poverty_level', u'Other'),\n (u'grade_level', u'highest poverty'),\n (u'vendor_shipping_charges', u'Grades PreK-2'),\n (u'sales_tax', u'20.88'),\n (u'payment_processing_charges', u'0.00'),\n (u'fulfillment_labor_materials', u'5.22'),\n (u'total_price_excluding_optional_support', u'17.00'),\n (u'total_price_including_optional_support', u'252.00'),\n (u'students_reached', u'307.32'),\n (u'total_donations', u'22'),\n (u'num_donors', u'0.00'),\n (u'eligible_double_your_impact_match', u'0'),\n (u'eligible_almost_home_match', u'f'),\n (u'funding_status', u'f'),\n (u'date_posted', u'expired'),\n (u'date_completed', u'2008-01-31'),\n (u'date_thank_you_packet_mailed', u''),\n (u'date_expiration', u'')]\n\n\tat org.apache.spark.api.python.PythonRDD$$anon$1.read(PythonRDD.scala:138)\n\tat org.apache.spark.api.python.PythonRDD$$anon$1.<init>(PythonRDD.scala:179)\n\tat org.apache.spark.api.python.PythonRDD.compute(PythonRDD.scala:97)\n\tat org.apache.spark.rdd.RDD.computeOrReadCheckpoint(RDD.scala:297)\n\tat org.apache.spark.rdd.RDD.iterator(RDD.scala:264)\n\tat org.apache.spark.scheduler.ResultTask.runTask(ResultTask.scala:66)\n\tat org.apache.spark.scheduler.Task.run(Task.scala:88)\n\tat org.apache.spark.executor.Executor$TaskRunner.run(Executor.scala:214)\n\tat java.util.concurrent.ThreadPoolExecutor.runWorker(ThreadPoolExecutor.java:1142)\n\tat java.util.concurrent.ThreadPoolExecutor$Worker.run(ThreadPoolExecutor.java:617)\n\t... 1 more\n"
     ]
    }
   ],
   "source": [
    "import pprint\n",
    "\n",
    "def throw_exception(row):\n",
    "    if len(row) != columns_count:\n",
    "        row_zip = zip(header_list, row)\n",
    "        message = pprint.pformat(row_zip)\n",
    "        \n",
    "        print row\n",
    "        print message\n",
    "        raise RowSplitException(message)\n",
    "    else:\n",
    "        pass\n",
    "\n",
    "rdd_csv.foreach(throw_exception)"
   ]
  },
  {
   "cell_type": "code",
   "execution_count": 66,
   "metadata": {
    "collapsed": false
   },
   "outputs": [
    {
     "name": "stdout",
     "output_type": "stream",
     "text": [
      "['45', '3', '27.1', 'Jonathan', 'Dinu', '\"Galvanize\"', '\"San Francisco ', ' CA\"', ' 26']\n",
      "Naive splitting creates 9 fields\n",
      "\n",
      "\n",
      "['45', '3', '27.1', 'Jonathan', 'Dinu', 'Galvanize', 'San Francisco , CA', ' 26']\n",
      "Using the built in CSV library creates 8 fields\n"
     ]
    }
   ],
   "source": [
    "import csv\n",
    "\n",
    "record = '45,3,27.1,Jonathan,Dinu,\"Galvanize\",\"San Francisco , CA\", 26'\n",
    "\n",
    "naive = record.split(',')\n",
    "csv_lib = csv.reader(['45,3,27.1,Jonathan,Dinu,\"Galvanize\",\"San Francisco , CA\", 26']).next()\n",
    "\n",
    "print naive\n",
    "print \"Naive splitting creates {0} fields\".format(len(naive))\n",
    "print \"\\n\"\n",
    "\n",
    "print csv_lib\n",
    "print \"Using the built in CSV library creates {0} fields\".format(len(csv_lib))"
   ]
  },
  {
   "cell_type": "code",
   "execution_count": 67,
   "metadata": {
    "collapsed": true
   },
   "outputs": [],
   "source": [
    "rdd_csv_corrrect = rdd_no_header.map(lambda line: csv.reader([line]).next())"
   ]
  },
  {
   "cell_type": "code",
   "execution_count": 68,
   "metadata": {
    "collapsed": false
   },
   "outputs": [
    {
     "name": "stdout",
     "output_type": "stream",
     "text": [
      "YAY it worked!\n"
     ]
    }
   ],
   "source": [
    "rdd_csv_corrrect.foreach(throw_exception)\n",
    "print \"YAY it worked!\""
   ]
  },
  {
   "cell_type": "markdown",
   "metadata": {},
   "source": [
    "## Lets look at how Spark can help us EDA (slides)"
   ]
  },
  {
   "cell_type": "code",
   "execution_count": 74,
   "metadata": {
    "collapsed": true
   },
   "outputs": [],
   "source": [
    "rdd_no_dups = rdd_csv_corrrect.map(lambda row: str(row)).distinct()"
   ]
  },
  {
   "cell_type": "code",
   "execution_count": 75,
   "metadata": {
    "collapsed": false
   },
   "outputs": [
    {
     "data": {
      "text/plain": [
       "10000"
      ]
     },
     "execution_count": 75,
     "metadata": {},
     "output_type": "execute_result"
    }
   ],
   "source": [
    "rdd_no_dups.count()"
   ]
  },
  {
   "cell_type": "code",
   "execution_count": 76,
   "metadata": {
    "collapsed": false
   },
   "outputs": [
    {
     "data": {
      "text/plain": [
       "10000"
      ]
     },
     "execution_count": 76,
     "metadata": {},
     "output_type": "execute_result"
    }
   ],
   "source": [
    "# no duplicates in original RDD\n",
    "rdd_csv_corrrect.map(lambda row: str(row)).distinct().count()"
   ]
  },
  {
   "cell_type": "code",
   "execution_count": 78,
   "metadata": {
    "collapsed": false,
    "scrolled": true
   },
   "outputs": [
    {
     "data": {
      "text/plain": [
       "{u'_projectid': '\"e565fb42185c6e9f22806ad9d5ac8a77\"',\n",
       " u'_schoolid': '\"45e7ddbdd7023f1eb65a6cc028d7414f\"',\n",
       " u'_teacher_acctid': '\"2e17c8c91cb58132d8103a9aa8797e80\"',\n",
       " u'date_completed': '2007-03-08',\n",
       " u'date_expiration': '2003-12-31',\n",
       " u'date_posted': '2007-03-08',\n",
       " u'date_thank_you_packet_mailed': '2007-03-08',\n",
       " u'eligible_almost_home_match': 'f',\n",
       " u'eligible_double_your_impact_match': 'f',\n",
       " u'fulfillment_labor_materials': '',\n",
       " u'funding_status': 'completed',\n",
       " u'grade_level': 'Grades 9-12',\n",
       " u'num_donors': '1',\n",
       " u'payment_processing_charges': '',\n",
       " u'poverty_level': 'highest poverty',\n",
       " u'primary_focus_area': 'Literacy & Language',\n",
       " u'primary_focus_subject': 'Literacy',\n",
       " u'resource_type': 'Books',\n",
       " u'sales_tax': '',\n",
       " u'school_charter': 'f',\n",
       " u'school_charter_ready_promise': 'f',\n",
       " u'school_city': 'Bronx',\n",
       " u'school_county': 'Bronx',\n",
       " u'school_district': 'New York City Dept Of Ed',\n",
       " u'school_kipp': 'f',\n",
       " u'school_latitude': '40.841691',\n",
       " u'school_longitude': '-73.875457',\n",
       " u'school_magnet': 'f',\n",
       " u'school_metro': 'urban',\n",
       " u'school_ncesid': '360009001332',\n",
       " u'school_nlns': 'f',\n",
       " u'school_state': 'NY',\n",
       " u'school_year_round': 'f',\n",
       " u'school_zip': '10460',\n",
       " u'secondary_focus_area': '',\n",
       " u'secondary_focus_subject': '',\n",
       " u'students_reached': '0',\n",
       " u'teacher_ny_teaching_fellow': 'f',\n",
       " u'teacher_prefix': 'Mr.',\n",
       " u'teacher_teach_for_america': 'f',\n",
       " u'total_donations': '308.00',\n",
       " u'total_price_excluding_optional_support': '280.02',\n",
       " u'total_price_including_optional_support': '341.49',\n",
       " u'vendor_shipping_charges': ''}"
      ]
     },
     "execution_count": 78,
     "metadata": {},
     "output_type": "execute_result"
    }
   ],
   "source": [
    "# more easily access 'columns'\n",
    "rdd_dict = rdd_csv_corrrect.map(lambda row: dict(zip(header_list, row)))\n",
    "rdd_dict.first()"
   ]
  },
  {
   "cell_type": "markdown",
   "metadata": {},
   "source": [
    "## Unique Values"
   ]
  },
  {
   "cell_type": "code",
   "execution_count": 81,
   "metadata": {
    "collapsed": false
   },
   "outputs": [
    {
     "data": {
      "text/plain": [
       "1708L"
      ]
     },
     "execution_count": 81,
     "metadata": {},
     "output_type": "execute_result"
    }
   ],
   "source": [
    "# HyperLogLog\n",
    "rdd_dict.map(lambda row: row['_schoolid']).countApproxDistinct()"
   ]
  },
  {
   "cell_type": "code",
   "execution_count": 88,
   "metadata": {
    "collapsed": false
   },
   "outputs": [
    {
     "data": {
      "text/plain": [
       "1629"
      ]
     },
     "execution_count": 88,
     "metadata": {},
     "output_type": "execute_result"
    }
   ],
   "source": [
    "rdd_dict.map(lambda row: row['_schoolid']).distinct().count()"
   ]
  },
  {
   "cell_type": "markdown",
   "metadata": {},
   "source": [
    "With EDA approximate values are often good enough since you are just trying to get a sense of the data.  For example, what is the order of magnitude of counts or distinct values?"
   ]
  },
  {
   "cell_type": "markdown",
   "metadata": {},
   "source": [
    "In addition to getting a sense for the cardinality of a field to understand how many potential values a given column could have, these types of distinct counts can be used to evaluate further methods to use.\n",
    "\n",
    "If trying to visualize the distribution of a value that has very many distinct values, you might need to bucket your data. Or if you are trying to do a crosstab() you can only have so many distinct values."
   ]
  },
  {
   "cell_type": "code",
   "execution_count": 85,
   "metadata": {
    "collapsed": false
   },
   "outputs": [
    {
     "data": {
      "text/plain": [
       "3375L"
      ]
     },
     "execution_count": 85,
     "metadata": {},
     "output_type": "execute_result"
    }
   ],
   "source": [
    "# probably do not want to compute counts -> pandas.plot(kind='bar')\n",
    "rdd_dict.map(lambda row: row['total_price_excluding_optional_support']).countApproxDistinct()"
   ]
  },
  {
   "cell_type": "markdown",
   "metadata": {},
   "source": [
    "## Missing/Null Values"
   ]
  },
  {
   "cell_type": "code",
   "execution_count": 89,
   "metadata": {
    "collapsed": true
   },
   "outputs": [],
   "source": [
    "accum = sc.accumulator(0)"
   ]
  },
  {
   "cell_type": "code",
   "execution_count": 90,
   "metadata": {
    "collapsed": true
   },
   "outputs": [],
   "source": [
    "from collections import Counter"
   ]
  },
  {
   "cell_type": "code",
   "execution_count": 91,
   "metadata": {
    "collapsed": false
   },
   "outputs": [],
   "source": [
    "class CounterAccumulatorParam(ps.accumulators.AccumulatorParam):\n",
    "    def zero(self, initialValue):\n",
    "        return Counter()\n",
    "\n",
    "    def addInPlace(self, v1, v2):\n",
    "        v1 += v2\n",
    "        return v1"
   ]
  },
  {
   "cell_type": "code",
   "execution_count": 98,
   "metadata": {
    "collapsed": false
   },
   "outputs": [],
   "source": [
    "accum = sc.accumulator(Counter(), CounterAccumulatorParam())"
   ]
  },
  {
   "cell_type": "code",
   "execution_count": 99,
   "metadata": {
    "collapsed": true
   },
   "outputs": [],
   "source": [
    "def count_null(record):\n",
    "    global accum\n",
    "    \n",
    "    c = Counter()\n",
    "    \n",
    "    for key, value in record.items():\n",
    "            # since columns are initially strings\n",
    "            # empty string signals missing value\n",
    "            if value == '':\n",
    "                c[key] += 1\n",
    "                \n",
    "    accum.add(c)"
   ]
  },
  {
   "cell_type": "code",
   "execution_count": 100,
   "metadata": {
    "collapsed": false
   },
   "outputs": [],
   "source": [
    "rdd_dict.foreach(count_null)"
   ]
  },
  {
   "cell_type": "code",
   "execution_count": 101,
   "metadata": {
    "collapsed": false
   },
   "outputs": [
    {
     "data": {
      "text/plain": [
       "Counter({u'payment_processing_charges': 9969, u'vendor_shipping_charges': 9969, u'fulfillment_labor_materials': 9969, u'sales_tax': 9969, u'secondary_focus_subject': 5456, u'secondary_focus_area': 5456, u'date_thank_you_packet_mailed': 2035, u'date_completed': 1461, u'school_metro': 754, u'school_ncesid': 476, u'school_district': 258, u'school_county': 1})"
      ]
     },
     "execution_count": 101,
     "metadata": {},
     "output_type": "execute_result"
    }
   ],
   "source": [
    "accum.value"
   ]
  },
  {
   "cell_type": "markdown",
   "metadata": {},
   "source": [
    "## Type conversion"
   ]
  },
  {
   "cell_type": "markdown",
   "metadata": {},
   "source": [
    "Spark is somewhat defensive in its typing, when you read in a textFile it well... assumes everything is text (i.e. Strings).  And with its type conversions, you either need to explicitly cast types in Spark, or convert to the appropriate type in Python through an RDD map.  In our case we are going to leverage the power of Spark and also to be sure of type parity we can use the same specification in our schema in our casting funciton.\n",
    "\n",
    "Somewhat awkwardly the default loading function cannot read in CSV.  If we want to specify the schema we can either: \n",
    "* convert the data to JSON and use the JSON loader with a schema specified\n",
    "* use an RDD which we transform into a format to create a dataframe\n",
    "\n",
    "I will show both here, but in the future we will use the SparkCSV module which eleviates the JSON trick.  Converting data type columns is useful however (though for an entire dataset can be combersome which is why we won't do it in the future) and here it will circumvent the need to copy our data file."
   ]
  },
  {
   "cell_type": "code",
   "execution_count": 102,
   "metadata": {
    "collapsed": true
   },
   "outputs": [],
   "source": [
    "from pyspark.sql.types import *\n",
    "from datetime import datetime"
   ]
  },
  {
   "cell_type": "code",
   "execution_count": 103,
   "metadata": {
    "collapsed": false
   },
   "outputs": [
    {
     "data": {
      "text/plain": [
       "[('t', 1020), ('f', 8980)]"
      ]
     },
     "execution_count": 103,
     "metadata": {},
     "output_type": "execute_result"
    }
   ],
   "source": [
    "# rdd value_counts()\n",
    "rdd_dict.map(lambda d: (d['teacher_ny_teaching_fellow'], 1)).reduceByKey(lambda a, b: a + b).collect()"
   ]
  },
  {
   "cell_type": "markdown",
   "metadata": {},
   "source": [
    "Given that our dataset represents Booleans as 't'/'f' strings and dates are simply strings we need to parse each column to convert it to the appropriate Python type beofre we can cast it to a Spark dataframe with a schema.\n",
    "\n",
    "Fortunately the cast mappings are somewhat consistent across columns.  For ID columns we want to strip the quotes."
   ]
  },
  {
   "cell_type": "code",
   "execution_count": 104,
   "metadata": {
    "collapsed": true
   },
   "outputs": [],
   "source": [
    "def quote_strip(field):\n",
    "    return field.strip('\"')"
   ]
  },
  {
   "cell_type": "code",
   "execution_count": 105,
   "metadata": {
    "collapsed": true
   },
   "outputs": [],
   "source": [
    "from datetime import datetime\n",
    "\n",
    "# http://strftime.org/\n",
    "def date_parse(datestring):\n",
    "    return None if datestring == '' else str(datetime.strptime(datestring, '%Y-%m-%d'))"
   ]
  },
  {
   "cell_type": "code",
   "execution_count": 106,
   "metadata": {
    "collapsed": true
   },
   "outputs": [],
   "source": [
    "def boolean_map(field):\n",
    "    if field == 't':\n",
    "        return True\n",
    "    elif field == 'f':\n",
    "        return False\n",
    "    else:\n",
    "        None"
   ]
  },
  {
   "cell_type": "markdown",
   "metadata": {},
   "source": [
    "For the other fields we simply need to do a type conversion (`int()` or `float()`). To make this somewhat manageable across so many columns (and to make sure our schema is consistent), I have defined the Spark schema apriori.  We will use this to programmatically convert our columns.  Since we will do this on the fly we need a lookup table for which conversion function to apply."
   ]
  },
  {
   "cell_type": "code",
   "execution_count": 107,
   "metadata": {
    "collapsed": true
   },
   "outputs": [],
   "source": [
    "type_conversion_func = {\n",
    "    'id': quote_strip,\n",
    "    'date': date_parse,\n",
    "    'boolean': boolean_map,\n",
    "    'float': lambda x: None if x == '' else float(x),\n",
    "    'integer': lambda x: None if x == '' else int(x),\n",
    "    'string': lambda x: None if x == '' else x\n",
    "}"
   ]
  },
  {
   "cell_type": "code",
   "execution_count": 108,
   "metadata": {
    "collapsed": false
   },
   "outputs": [
    {
     "data": {
      "text/plain": [
       "10.2"
      ]
     },
     "execution_count": 108,
     "metadata": {},
     "output_type": "execute_result"
    }
   ],
   "source": [
    "type_conversion_func['float']('10.2')"
   ]
  },
  {
   "cell_type": "code",
   "execution_count": 109,
   "metadata": {
    "collapsed": true
   },
   "outputs": [],
   "source": [
    "# Hand specified schema\n",
    "types = [\n",
    "    StringType(),\n",
    "    StringType(),\n",
    "    StringType(),\n",
    "    StringType(),\n",
    "    FloatType(),\n",
    "    FloatType(),\n",
    "    StringType(),\n",
    "    StringType(),\n",
    "    StringType(),\n",
    "    StringType(),\n",
    "    StringType(),\n",
    "    StringType(),\n",
    "    BooleanType(),\n",
    "    BooleanType(),\n",
    "    BooleanType(),\n",
    "    BooleanType(),\n",
    "    BooleanType(),\n",
    "    BooleanType(),\n",
    "    StringType(),\n",
    "    BooleanType(),\n",
    "    BooleanType(),\n",
    "    StringType(),\n",
    "    StringType(),\n",
    "    StringType(),\n",
    "    StringType(),\n",
    "    StringType(),\n",
    "    StringType(),\n",
    "    StringType(),\n",
    "    FloatType(),\n",
    "    FloatType(),\n",
    "    FloatType(),\n",
    "    FloatType(),\n",
    "    FloatType(),\n",
    "    FloatType(),\n",
    "    FloatType(),\n",
    "    FloatType(),\n",
    "    FloatType(),\n",
    "    BooleanType(),\n",
    "    BooleanType(),\n",
    "    StringType(),\n",
    "    DateType(),\n",
    "    DateType(),\n",
    "    DateType(),\n",
    "    DateType()\n",
    "]"
   ]
  },
  {
   "cell_type": "markdown",
   "metadata": {},
   "source": [
    "Now this is where we will use a little Python magic to intelligently introspect our collumns and apply the proper transform. Observe that:"
   ]
  },
  {
   "cell_type": "code",
   "execution_count": 110,
   "metadata": {
    "collapsed": true
   },
   "outputs": [],
   "source": [
    "ft = FloatType()"
   ]
  },
  {
   "cell_type": "code",
   "execution_count": 111,
   "metadata": {
    "collapsed": false
   },
   "outputs": [
    {
     "data": {
      "text/plain": [
       "'float'"
      ]
     },
     "execution_count": 111,
     "metadata": {},
     "output_type": "execute_result"
    }
   ],
   "source": [
    "ft.typeName()"
   ]
  },
  {
   "cell_type": "code",
   "execution_count": 112,
   "metadata": {
    "collapsed": false
   },
   "outputs": [
    {
     "data": {
      "text/plain": [
       "'string'"
      ]
     },
     "execution_count": 112,
     "metadata": {},
     "output_type": "execute_result"
    }
   ],
   "source": [
    "types[3].typeName()"
   ]
  },
  {
   "cell_type": "code",
   "execution_count": 113,
   "metadata": {
    "collapsed": false
   },
   "outputs": [
    {
     "data": {
      "text/plain": [
       "{u'_projectid': StringType,\n",
       " u'_schoolid': StringType,\n",
       " u'_teacher_acctid': StringType,\n",
       " u'date_completed': DateType,\n",
       " u'date_expiration': DateType,\n",
       " u'date_posted': DateType,\n",
       " u'date_thank_you_packet_mailed': DateType,\n",
       " u'eligible_almost_home_match': BooleanType,\n",
       " u'eligible_double_your_impact_match': BooleanType,\n",
       " u'fulfillment_labor_materials': FloatType,\n",
       " u'funding_status': StringType,\n",
       " u'grade_level': StringType,\n",
       " u'num_donors': FloatType,\n",
       " u'payment_processing_charges': FloatType,\n",
       " u'poverty_level': StringType,\n",
       " u'primary_focus_area': StringType,\n",
       " u'primary_focus_subject': StringType,\n",
       " u'resource_type': StringType,\n",
       " u'sales_tax': FloatType,\n",
       " u'school_charter': BooleanType,\n",
       " u'school_charter_ready_promise': BooleanType,\n",
       " u'school_city': StringType,\n",
       " u'school_county': StringType,\n",
       " u'school_district': StringType,\n",
       " u'school_kipp': BooleanType,\n",
       " u'school_latitude': FloatType,\n",
       " u'school_longitude': FloatType,\n",
       " u'school_magnet': BooleanType,\n",
       " u'school_metro': StringType,\n",
       " u'school_ncesid': StringType,\n",
       " u'school_nlns': BooleanType,\n",
       " u'school_state': StringType,\n",
       " u'school_year_round': BooleanType,\n",
       " u'school_zip': StringType,\n",
       " u'secondary_focus_area': StringType,\n",
       " u'secondary_focus_subject': StringType,\n",
       " u'students_reached': FloatType,\n",
       " u'teacher_ny_teaching_fellow': BooleanType,\n",
       " u'teacher_prefix': StringType,\n",
       " u'teacher_teach_for_america': BooleanType,\n",
       " u'total_donations': FloatType,\n",
       " u'total_price_excluding_optional_support': FloatType,\n",
       " u'total_price_including_optional_support': FloatType,\n",
       " u'vendor_shipping_charges': FloatType}"
      ]
     },
     "execution_count": 113,
     "metadata": {},
     "output_type": "execute_result"
    }
   ],
   "source": [
    "column_type_lookup = dict(zip(header_list, types))\n",
    "column_type_lookup"
   ]
  },
  {
   "cell_type": "code",
   "execution_count": 114,
   "metadata": {
    "collapsed": false
   },
   "outputs": [],
   "source": [
    "import json\n",
    "\n",
    "def convert_types(d):\n",
    "    for field in d:\n",
    "        if field[0] == \"_\":\n",
    "            transform = type_conversion_func['id']\n",
    "        else:\n",
    "            transform = type_conversion_func[column_type_lookup[field].typeName()]\n",
    "        \n",
    "        d[field] = transform(d[field])\n",
    "        \n",
    "    return json.dumps(d)"
   ]
  },
  {
   "cell_type": "code",
   "execution_count": 115,
   "metadata": {
    "collapsed": false
   },
   "outputs": [],
   "source": [
    "rdd_typed = rdd_dict.map(convert_types)"
   ]
  },
  {
   "cell_type": "code",
   "execution_count": 116,
   "metadata": {
    "collapsed": false
   },
   "outputs": [
    {
     "data": {
      "text/plain": [
       "['{\"total_price_including_optional_support\": 341.49, \"school_district\": \"New York City Dept Of Ed\", \"secondary_focus_area\": null, \"primary_focus_area\": \"Literacy & Language\", \"school_latitude\": 40.841691, \"date_thank_you_packet_mailed\": \"2007-03-08 00:00:00\", \"school_year_round\": false, \"school_charter\": false, \"_projectid\": \"e565fb42185c6e9f22806ad9d5ac8a77\", \"_schoolid\": \"45e7ddbdd7023f1eb65a6cc028d7414f\", \"teacher_teach_for_america\": false, \"school_magnet\": false, \"school_kipp\": false, \"date_posted\": \"2007-03-08 00:00:00\", \"payment_processing_charges\": null, \"grade_level\": \"Grades 9-12\", \"primary_focus_subject\": \"Literacy\", \"school_ncesid\": \"360009001332\", \"poverty_level\": \"highest poverty\", \"school_state\": \"NY\", \"school_charter_ready_promise\": false, \"teacher_prefix\": \"Mr.\", \"school_county\": \"Bronx\", \"date_expiration\": \"2003-12-31 00:00:00\", \"vendor_shipping_charges\": null, \"students_reached\": 0.0, \"school_city\": \"Bronx\", \"num_donors\": 1.0, \"eligible_double_your_impact_match\": false, \"funding_status\": \"completed\", \"school_longitude\": -73.875457, \"total_donations\": 308.0, \"teacher_ny_teaching_fellow\": false, \"date_completed\": \"2007-03-08 00:00:00\", \"secondary_focus_subject\": null, \"eligible_almost_home_match\": false, \"school_nlns\": false, \"school_metro\": \"urban\", \"fulfillment_labor_materials\": null, \"total_price_excluding_optional_support\": 280.02, \"sales_tax\": null, \"school_zip\": \"10460\", \"resource_type\": \"Books\", \"_teacher_acctid\": \"2e17c8c91cb58132d8103a9aa8797e80\"}']"
      ]
     },
     "execution_count": 116,
     "metadata": {},
     "output_type": "execute_result"
    }
   ],
   "source": [
    "rdd_typed.take(1)"
   ]
  },
  {
   "cell_type": "code",
   "execution_count": 120,
   "metadata": {
    "collapsed": false
   },
   "outputs": [],
   "source": [
    "from pyspark.sql import Row\n",
    "\n",
    "# create SQLContext for DataFrame\n",
    "sqlContext = ps.SQLContext(sc)\n",
    "\n",
    "# set column names\n",
    "# rdd_rows = rdd_typed.map(lambda x: Row(**x))"
   ]
  },
  {
   "cell_type": "code",
   "execution_count": 122,
   "metadata": {
    "collapsed": false
   },
   "outputs": [],
   "source": [
    "# infer schema\n",
    "df = sqlContext.jsonRDD(rdd_typed)"
   ]
  },
  {
   "cell_type": "code",
   "execution_count": 123,
   "metadata": {
    "collapsed": false
   },
   "outputs": [
    {
     "name": "stdout",
     "output_type": "stream",
     "text": [
      "root\n",
      " |-- _projectid: string (nullable = true)\n",
      " |-- _schoolid: string (nullable = true)\n",
      " |-- _teacher_acctid: string (nullable = true)\n",
      " |-- date_completed: string (nullable = true)\n",
      " |-- date_expiration: string (nullable = true)\n",
      " |-- date_posted: string (nullable = true)\n",
      " |-- date_thank_you_packet_mailed: string (nullable = true)\n",
      " |-- eligible_almost_home_match: boolean (nullable = true)\n",
      " |-- eligible_double_your_impact_match: boolean (nullable = true)\n",
      " |-- fulfillment_labor_materials: double (nullable = true)\n",
      " |-- funding_status: string (nullable = true)\n",
      " |-- grade_level: string (nullable = true)\n",
      " |-- num_donors: double (nullable = true)\n",
      " |-- payment_processing_charges: double (nullable = true)\n",
      " |-- poverty_level: string (nullable = true)\n",
      " |-- primary_focus_area: string (nullable = true)\n",
      " |-- primary_focus_subject: string (nullable = true)\n",
      " |-- resource_type: string (nullable = true)\n",
      " |-- sales_tax: double (nullable = true)\n",
      " |-- school_charter: boolean (nullable = true)\n",
      " |-- school_charter_ready_promise: boolean (nullable = true)\n",
      " |-- school_city: string (nullable = true)\n",
      " |-- school_county: string (nullable = true)\n",
      " |-- school_district: string (nullable = true)\n",
      " |-- school_kipp: boolean (nullable = true)\n",
      " |-- school_latitude: double (nullable = true)\n",
      " |-- school_longitude: double (nullable = true)\n",
      " |-- school_magnet: boolean (nullable = true)\n",
      " |-- school_metro: string (nullable = true)\n",
      " |-- school_ncesid: string (nullable = true)\n",
      " |-- school_nlns: boolean (nullable = true)\n",
      " |-- school_state: string (nullable = true)\n",
      " |-- school_year_round: boolean (nullable = true)\n",
      " |-- school_zip: string (nullable = true)\n",
      " |-- secondary_focus_area: string (nullable = true)\n",
      " |-- secondary_focus_subject: string (nullable = true)\n",
      " |-- students_reached: double (nullable = true)\n",
      " |-- teacher_ny_teaching_fellow: boolean (nullable = true)\n",
      " |-- teacher_prefix: string (nullable = true)\n",
      " |-- teacher_teach_for_america: boolean (nullable = true)\n",
      " |-- total_donations: double (nullable = true)\n",
      " |-- total_price_excluding_optional_support: double (nullable = true)\n",
      " |-- total_price_including_optional_support: double (nullable = true)\n",
      " |-- vendor_shipping_charges: double (nullable = true)\n",
      "\n"
     ]
    }
   ],
   "source": [
    "# unfortunately the date types didn't get inferrred\n",
    "df.printSchema()"
   ]
  },
  {
   "cell_type": "code",
   "execution_count": 126,
   "metadata": {
    "collapsed": true
   },
   "outputs": [],
   "source": [
    "structs = map(lambda x: StructField(*x), zip(header_list, types))"
   ]
  },
  {
   "cell_type": "code",
   "execution_count": 127,
   "metadata": {
    "collapsed": false
   },
   "outputs": [
    {
     "data": {
      "text/plain": [
       "[StructField(_projectid,StringType,true),\n",
       " StructField(_teacher_acctid,StringType,true),\n",
       " StructField(_schoolid,StringType,true),\n",
       " StructField(school_ncesid,StringType,true),\n",
       " StructField(school_latitude,FloatType,true),\n",
       " StructField(school_longitude,FloatType,true),\n",
       " StructField(school_city,StringType,true),\n",
       " StructField(school_state,StringType,true),\n",
       " StructField(school_zip,StringType,true),\n",
       " StructField(school_metro,StringType,true),\n",
       " StructField(school_district,StringType,true),\n",
       " StructField(school_county,StringType,true),\n",
       " StructField(school_charter,BooleanType,true),\n",
       " StructField(school_magnet,BooleanType,true),\n",
       " StructField(school_year_round,BooleanType,true),\n",
       " StructField(school_nlns,BooleanType,true),\n",
       " StructField(school_kipp,BooleanType,true),\n",
       " StructField(school_charter_ready_promise,BooleanType,true),\n",
       " StructField(teacher_prefix,StringType,true),\n",
       " StructField(teacher_teach_for_america,BooleanType,true),\n",
       " StructField(teacher_ny_teaching_fellow,BooleanType,true),\n",
       " StructField(primary_focus_subject,StringType,true),\n",
       " StructField(primary_focus_area,StringType,true),\n",
       " StructField(secondary_focus_subject,StringType,true),\n",
       " StructField(secondary_focus_area,StringType,true),\n",
       " StructField(resource_type,StringType,true),\n",
       " StructField(poverty_level,StringType,true),\n",
       " StructField(grade_level,StringType,true),\n",
       " StructField(vendor_shipping_charges,FloatType,true),\n",
       " StructField(sales_tax,FloatType,true),\n",
       " StructField(payment_processing_charges,FloatType,true),\n",
       " StructField(fulfillment_labor_materials,FloatType,true),\n",
       " StructField(total_price_excluding_optional_support,FloatType,true),\n",
       " StructField(total_price_including_optional_support,FloatType,true),\n",
       " StructField(students_reached,FloatType,true),\n",
       " StructField(total_donations,FloatType,true),\n",
       " StructField(num_donors,FloatType,true),\n",
       " StructField(eligible_double_your_impact_match,BooleanType,true),\n",
       " StructField(eligible_almost_home_match,BooleanType,true),\n",
       " StructField(funding_status,StringType,true),\n",
       " StructField(date_posted,DateType,true),\n",
       " StructField(date_completed,DateType,true),\n",
       " StructField(date_thank_you_packet_mailed,DateType,true),\n",
       " StructField(date_expiration,DateType,true)]"
      ]
     },
     "execution_count": 127,
     "metadata": {},
     "output_type": "execute_result"
    }
   ],
   "source": [
    "schema = StructType(structs)\n",
    "schema.fields"
   ]
  },
  {
   "cell_type": "code",
   "execution_count": 128,
   "metadata": {
    "collapsed": false
   },
   "outputs": [],
   "source": [
    "# force schema\n",
    "df_force = sqlContext.jsonRDD(rdd_typed, schema=schema)"
   ]
  },
  {
   "cell_type": "markdown",
   "metadata": {},
   "source": [
    "Now I have already converted this RDD into a dataframe in a similar manner to how we created a dataframe in the SQL video.  If you would like to see how I did it, please refer to the exercise notebook."
   ]
  },
  {
   "cell_type": "code",
   "execution_count": 129,
   "metadata": {
    "collapsed": false
   },
   "outputs": [
    {
     "name": "stdout",
     "output_type": "stream",
     "text": [
      "root\n",
      " |-- _projectid: string (nullable = true)\n",
      " |-- _teacher_acctid: string (nullable = true)\n",
      " |-- _schoolid: string (nullable = true)\n",
      " |-- school_ncesid: string (nullable = true)\n",
      " |-- school_latitude: float (nullable = true)\n",
      " |-- school_longitude: float (nullable = true)\n",
      " |-- school_city: string (nullable = true)\n",
      " |-- school_state: string (nullable = true)\n",
      " |-- school_zip: string (nullable = true)\n",
      " |-- school_metro: string (nullable = true)\n",
      " |-- school_district: string (nullable = true)\n",
      " |-- school_county: string (nullable = true)\n",
      " |-- school_charter: boolean (nullable = true)\n",
      " |-- school_magnet: boolean (nullable = true)\n",
      " |-- school_year_round: boolean (nullable = true)\n",
      " |-- school_nlns: boolean (nullable = true)\n",
      " |-- school_kipp: boolean (nullable = true)\n",
      " |-- school_charter_ready_promise: boolean (nullable = true)\n",
      " |-- teacher_prefix: string (nullable = true)\n",
      " |-- teacher_teach_for_america: boolean (nullable = true)\n",
      " |-- teacher_ny_teaching_fellow: boolean (nullable = true)\n",
      " |-- primary_focus_subject: string (nullable = true)\n",
      " |-- primary_focus_area: string (nullable = true)\n",
      " |-- secondary_focus_subject: string (nullable = true)\n",
      " |-- secondary_focus_area: string (nullable = true)\n",
      " |-- resource_type: string (nullable = true)\n",
      " |-- poverty_level: string (nullable = true)\n",
      " |-- grade_level: string (nullable = true)\n",
      " |-- vendor_shipping_charges: float (nullable = true)\n",
      " |-- sales_tax: float (nullable = true)\n",
      " |-- payment_processing_charges: float (nullable = true)\n",
      " |-- fulfillment_labor_materials: float (nullable = true)\n",
      " |-- total_price_excluding_optional_support: float (nullable = true)\n",
      " |-- total_price_including_optional_support: float (nullable = true)\n",
      " |-- students_reached: float (nullable = true)\n",
      " |-- total_donations: float (nullable = true)\n",
      " |-- num_donors: float (nullable = true)\n",
      " |-- eligible_double_your_impact_match: boolean (nullable = true)\n",
      " |-- eligible_almost_home_match: boolean (nullable = true)\n",
      " |-- funding_status: string (nullable = true)\n",
      " |-- date_posted: date (nullable = true)\n",
      " |-- date_completed: date (nullable = true)\n",
      " |-- date_thank_you_packet_mailed: date (nullable = true)\n",
      " |-- date_expiration: date (nullable = true)\n",
      "\n"
     ]
    }
   ],
   "source": [
    "df_force.printSchema()"
   ]
  },
  {
   "cell_type": "code",
   "execution_count": 130,
   "metadata": {
    "collapsed": false
   },
   "outputs": [
    {
     "data": {
      "text/plain": [
       "Row(_projectid=u'e565fb42185c6e9f22806ad9d5ac8a77', _teacher_acctid=u'2e17c8c91cb58132d8103a9aa8797e80', _schoolid=u'45e7ddbdd7023f1eb65a6cc028d7414f', school_ncesid=u'360009001332', school_latitude=40.84169006347656, school_longitude=-73.87545776367188, school_city=u'Bronx', school_state=u'NY', school_zip=u'10460', school_metro=u'urban', school_district=u'New York City Dept Of Ed', school_county=u'Bronx', school_charter=False, school_magnet=False, school_year_round=False, school_nlns=False, school_kipp=False, school_charter_ready_promise=False, teacher_prefix=u'Mr.', teacher_teach_for_america=False, teacher_ny_teaching_fellow=False, primary_focus_subject=u'Literacy', primary_focus_area=u'Literacy & Language', secondary_focus_subject=None, secondary_focus_area=None, resource_type=u'Books', poverty_level=u'highest poverty', grade_level=u'Grades 9-12', vendor_shipping_charges=None, sales_tax=None, payment_processing_charges=None, fulfillment_labor_materials=None, total_price_excluding_optional_support=280.0199890136719, total_price_including_optional_support=341.489990234375, students_reached=0.0, total_donations=308.0, num_donors=1.0, eligible_double_your_impact_match=False, eligible_almost_home_match=False, funding_status=u'completed', date_posted=datetime.date(2007, 3, 8), date_completed=datetime.date(2007, 3, 8), date_thank_you_packet_mailed=datetime.date(2007, 3, 8), date_expiration=datetime.date(2003, 12, 31))"
      ]
     },
     "execution_count": 130,
     "metadata": {},
     "output_type": "execute_result"
    }
   ],
   "source": [
    "# when schema forced, dates convert correctly\n",
    "df_force.first()"
   ]
  },
  {
   "cell_type": "code",
   "execution_count": 131,
   "metadata": {
    "collapsed": false
   },
   "outputs": [
    {
     "name": "stdout",
     "output_type": "stream",
     "text": [
      "+--------------------+--------------------+--------------------+-------------+---------------+----------------+-----------+------------+----------+------------+--------------------+--------------------+--------------+-------------+-----------------+-----------+-----------+----------------------------+--------------+-------------------------+--------------------------+---------------------+-------------------+-----------------------+--------------------+-------------+---------------+-----------+-----------------------+---------+--------------------------+---------------------------+--------------------------------------+--------------------------------------+----------------+---------------+----------+---------------------------------+--------------------------+--------------+-----------+--------------+----------------------------+---------------+\n",
      "|          _projectid|     _teacher_acctid|           _schoolid|school_ncesid|school_latitude|school_longitude|school_city|school_state|school_zip|school_metro|     school_district|       school_county|school_charter|school_magnet|school_year_round|school_nlns|school_kipp|school_charter_ready_promise|teacher_prefix|teacher_teach_for_america|teacher_ny_teaching_fellow|primary_focus_subject| primary_focus_area|secondary_focus_subject|secondary_focus_area|resource_type|  poverty_level|grade_level|vendor_shipping_charges|sales_tax|payment_processing_charges|fulfillment_labor_materials|total_price_excluding_optional_support|total_price_including_optional_support|students_reached|total_donations|num_donors|eligible_double_your_impact_match|eligible_almost_home_match|funding_status|date_posted|date_completed|date_thank_you_packet_mailed|date_expiration|\n",
      "+--------------------+--------------------+--------------------+-------------+---------------+----------------+-----------+------------+----------+------------+--------------------+--------------------+--------------+-------------+-----------------+-----------+-----------+----------------------------+--------------+-------------------------+--------------------------+---------------------+-------------------+-----------------------+--------------------+-------------+---------------+-----------+-----------------------+---------+--------------------------+---------------------------+--------------------------------------+--------------------------------------+----------------+---------------+----------+---------------------------------+--------------------------+--------------+-----------+--------------+----------------------------+---------------+\n",
      "|e565fb42185c6e9f2...|2e17c8c91cb58132d...|45e7ddbdd7023f1eb...| 360009001332|       40.84169|       -73.87546|      Bronx|          NY|     10460|       urban|New York City Dep...|               Bronx|         false|        false|            false|      false|      false|                       false|           Mr.|                    false|                     false|             Literacy|Literacy & Language|                   null|                null|        Books|highest poverty|Grades 9-12|                   null|     null|                      null|                       null|                                280.02|                                341.49|             0.0|          308.0|       1.0|                            false|                     false|     completed| 2007-03-08|    2007-03-08|                  2007-03-08|     2003-12-31|\n",
      "|76108ed46f99f27be...|6b3721c9585633fa7...|45e7ddbdd7023f1eb...| 360009001332|       40.84169|       -73.87546|      Bronx|          NY|     10460|       urban|New York City Dep...|               Bronx|         false|        false|            false|      false|      false|                       false|           Ms.|                    false|                     false| Health & Life Sci...|     Math & Science|                   null|                null|   Technology|highest poverty|Grades 9-12|                   null|     null|                      null|                       null|                                299.95|                                365.79|             0.0|          329.0|       1.0|                            false|                     false|     completed| 2002-11-11|    2002-12-06|                  2002-12-06|     2003-12-31|\n",
      "|2568882e490684975...|ed55d66251be5810b...|923a1f4850d4e09ad...| 360007702871|       40.74221|      -74.002045|   New York|          NY|     10011|       urban|New York City Dep...|New York (Manhattan)|         false|        false|            false|      false|      false|                       false|           Mr.|                    false|                     false|      Performing Arts|   Music & The Arts|                   null|                null|        Trips|highest poverty|Grades 9-12|                   null|     null|                      null|                       null|                                 290.0|                                353.66|             0.0|          319.0|       1.0|                            false|                     false|     completed| 2002-11-11|    2002-12-09|                  2002-12-09|     2003-12-31|\n",
      "|e49f6d07f9da7086d...|ba7ada7b8ef61280b...|45e7ddbdd7023f1eb...| 360009001332|       40.84169|       -73.87546|      Bronx|          NY|     10460|       urban|New York City Dep...|               Bronx|         false|        false|            false|      false|      false|                       false|           Ms.|                    false|                     false| College & Career ...|   Applied Learning|                   null|                null|        Books|highest poverty|Grades 9-12|                   null|     null|                      null|                       null|                                348.04|                                424.44|             0.0|          382.0|       1.0|                            false|                     false|     completed| 2002-11-11|    2002-12-06|                  2002-12-06|     2003-12-31|\n",
      "|548b161b4e808fb58...|58574f5ee5f3d74a4...|45e7ddbdd7023f1eb...| 360009001332|       40.84169|       -73.87546|      Bronx|          NY|     10460|       urban|New York City Dep...|               Bronx|         false|        false|            false|      false|      false|                       false|           Ms.|                    false|                     false|  Character Education|   Applied Learning|                   null|                null|        Books|highest poverty|Grades 9-12|                   null|     null|                      null|                       null|                                297.39|                                362.67|             0.0|          327.0|       1.0|                            false|                     false|     completed| 2002-11-11|    2002-12-06|                  2002-12-06|     2003-12-31|\n",
      "|dfc5e3a3bd22d8ee9...|fedc7312fac70db43...|45e7ddbdd7023f1eb...| 360009001332|       40.84169|       -73.87546|      Bronx|          NY|     10460|       urban|New York City Dep...|               Bronx|         false|        false|            false|      false|      false|                       false|           Ms.|                    false|                     false| Literature & Writing|Literacy & Language|                   null|                null|        Books|highest poverty|Grades 9-12|                   null|     null|                      null|                       null|                                388.39|                                473.65|             0.0|         388.39|       1.0|                            false|                     false|     completed| 2002-11-11|    2002-12-06|                  2002-12-06|     2003-12-31|\n",
      "|be3c6a88818ef68fd...|2e6deb2edcb9b2ef9...|45e7ddbdd7023f1eb...| 360009001332|       40.84169|       -73.87546|      Bronx|          NY|     10460|       urban|New York City Dep...|               Bronx|         false|        false|            false|      false|      false|                       false|           Ms.|                    false|                     false|  History & Geography|   History & Civics|                   null|                null|   Technology|highest poverty|Grades 9-12|                   null|     null|                      null|                       null|                                 402.0|                                490.24|             0.0|          402.0|       1.0|                            false|                     false|     completed| 2002-11-11|    2002-12-06|                  2002-12-06|     2003-12-31|\n",
      "|dd7ed1d74f70fb0e7...|d8f151a88a6d298fe...|45e7ddbdd7023f1eb...| 360009001332|       40.84169|       -73.87546|      Bronx|          NY|     10460|       urban|New York City Dep...|               Bronx|         false|        false|            false|      false|      false|                       false|           Mr.|                    false|                     false|  History & Geography|   History & Civics|                   null|                null|     Visitors|highest poverty|Grades 9-12|                   null|     null|                      null|                       null|                                 400.0|                                 487.8|             0.0|          440.0|       1.0|                            false|                     false|     completed| 2002-11-11|    2002-12-09|                  2002-12-09|     2001-12-31|\n",
      "|c5d4a7877c463ed59...|262af4de852862825...|8c9ab8c0210743816...|         null|      40.826958|       -73.89222|      BRONX|          NY|     10459|        null|                null|               Bronx|         false|        false|            false|      false|      false|                       false|           Ms.|                    false|                     false| Literature & Writing|Literacy & Language|                   null|                null|        Books|    low poverty|Grades 9-12|                   null|     null|                      null|                       null|                                321.19|                                 391.7|             0.0|          353.0|       1.0|                            false|                     false|     completed| 2002-11-11|    2002-12-06|                  2002-12-06|     2003-12-31|\n",
      "|8d94b238b50e7fade...|f8e7fa9cc031249fa...|15b661612d21c9dd3...|         null|      40.826958|       -73.89222|      Bronx|          NY|     10459|        null|                null|               Bronx|         false|        false|            false|      false|      false|                       false|           Ms.|                    false|                     false| Environmental Sci...|     Math & Science|                   null|                null|   Technology|highest poverty|Grades 9-12|                   null|     null|                      null|                       null|                                 900.0|                               1097.56|             0.0|         1000.0|       1.0|                            false|                     false|     completed| 2002-11-11|    2002-12-06|                  2002-12-06|     2003-12-31|\n",
      "|8b19da4400111a0d6...|760f8b3ac86e3ac28...|45e7ddbdd7023f1eb...| 360009001332|       40.84169|       -73.87546|      Bronx|          NY|     10460|       urban|New York City Dep...|               Bronx|         false|        false|            false|      false|      false|                       false|           Ms.|                    false|                     false|             Literacy|Literacy & Language|                   null|                null|        Books|highest poverty|Grades 9-12|                   null|     null|                      null|                       null|                                846.35|                               1032.13|             0.0|         846.35|       1.0|                            false|                     false|     completed| 2002-11-11|    2002-12-06|                  2002-12-06|     2003-12-31|\n",
      "|4f93f03be059a8772...|e5d28482308e20079...|9bc7d4d92193a4536...| 360009705560|       40.70178|       -74.01184|   New York|          NY|     10004|       urban|               Other|New York (Manhattan)|         false|        false|            false|      false|      false|                       false|           Mr.|                    false|                     false|      Performing Arts|   Music & The Arts|                   null|                null|        Other|highest poverty|Grades 9-12|                   null|     null|                      null|                       null|                                 300.0|                                365.85|             0.0|          300.0|       1.0|                            false|                     false|     completed| 2002-11-11|    2002-12-06|                  2002-12-06|     2003-12-31|\n",
      "|eef82859f1dd503d0...|8fb8a281a46527b9e...|45e7ddbdd7023f1eb...| 360009001332|       40.84169|       -73.87546|      Bronx|          NY|     10460|       urban|New York City Dep...|               Bronx|         false|        false|            false|      false|      false|                       false|           Mr.|                    false|                     false|  History & Geography|   History & Civics|                   null|                null|   Technology|highest poverty|Grades 9-12|                   null|     null|                      null|                       null|                                4000.0|                               4878.05|             0.0|         4600.0|       2.0|                            false|                     false|     completed| 2003-01-18|    2003-04-18|                  2003-08-28|     2003-12-31|\n",
      "|f38c2d5f55f4078eb...|964aa5f2734897fbd...|eab5debe9b88fbb9b...| 360007703705|      40.783325|       -73.94593|   New York|          NY|     10128|       urban|New York City Dep...|New York (Manhattan)|         false|        false|            false|      false|      false|                       false|           Ms.|                    false|                     false| Literature & Writing|Literacy & Language|                   null|                null|        Books|highest poverty| Grades 6-8|                   null|     null|                      null|                       null|                                335.27|                                408.87|             0.0|         335.27|       1.0|                            false|                     false|     completed| 2002-11-11|    2002-12-09|                  2002-12-09|     2003-12-31|\n",
      "|ec6717d760d379863...|8fb8a281a46527b9e...|45e7ddbdd7023f1eb...| 360009001332|       40.84169|       -73.87546|      Bronx|          NY|     10460|       urban|New York City Dep...|               Bronx|         false|        false|            false|      false|      false|                       false|           Mr.|                    false|                     false|      Extracurricular|   Applied Learning|                   null|                null|     Supplies|highest poverty|Grades 9-12|                   null|     null|                      null|                       null|                                230.89|                                281.57|             0.0|          253.0|       1.0|                            false|                     false|     completed| 2002-11-11|    2002-12-06|                  2002-12-06|     2003-12-31|\n",
      "|17466db6d832881ba...|dab65ac402878a610...|1ae4695be589a3681...| 360007700585|       40.76552|       -73.96009|   New York|          NY|     10065|        null|New York City Dep...|New York (Manhattan)|         false|        false|            false|      false|      false|                       false|           Ms.|                    false|                     false|          Visual Arts|   Music & The Arts|                   null|                null|        Other|highest poverty|Grades 9-12|                   null|     null|                      null|                       null|                                 350.0|                                426.83|             0.0|          350.0|       1.0|                            false|                     false|     completed| 2002-11-11|    2002-12-06|                  2002-12-06|     2003-12-31|\n",
      "|f4a27a5e375c9a496...|5955995b38eba124a...|5c5c444dd1bf31c3b...| 360007705566|      40.768253|      -73.988976|   New York|          NY|     10019|       urban|Empowerment Suppo...|New York (Manhattan)|         false|        false|            false|      false|      false|                       false|           Ms.|                    false|                     false|    Early Development|   Applied Learning|                   null|                null|   Technology|highest poverty|Grades 9-12|                   null|     null|                      null|                       null|                                2700.0|                               3292.68|             0.0|         2970.0|       1.0|                            false|                     false|     completed| 2002-10-03|    2002-10-03|                  2003-01-06|     2003-12-31|\n",
      "|52b04391f8e0284e4...|ded4b1235dbdaedeb...|8c9ab8c0210743816...|         null|      40.826958|       -73.89222|      BRONX|          NY|     10459|        null|                null|               Bronx|         false|        false|            false|      false|      false|                       false|           Ms.|                    false|                     false|      Performing Arts|   Music & The Arts|                   null|                null|     Supplies|    low poverty|Grades 9-12|                   null|     null|                      null|                       null|                                 500.0|                                609.76|             0.0|          500.0|       1.0|                            false|                     false|     completed| 2002-11-11|    2002-12-06|                  2002-12-06|     2003-12-31|\n",
      "|c97b3d603e499978c...|263a93c35a3a52ea1...|cb1ac51c57e5ecb8f...| 360009200826|       40.68683|       -73.98084|   Brooklyn|          NY|     11217|       urban|New York City Dep...|    Kings (Brooklyn)|         false|        false|            false|      false|      false|                       false|           Ms.|                    false|                     false|          Mathematics|     Math & Science|                   null|                null|        Trips|highest poverty|Grades 9-12|                   null|     null|                      null|                       null|                                 650.0|                                792.68|             0.0|          700.0|       3.0|                            false|                     false|     completed| 2002-11-11|    2002-12-06|                  2002-12-06|     2003-12-31|\n",
      "|0cab719d819193626...|2e17c8c91cb58132d...|45e7ddbdd7023f1eb...| 360009001332|       40.84169|       -73.87546|      Bronx|          NY|     10460|       urban|New York City Dep...|               Bronx|         false|        false|            false|      false|      false|                       false|           Mr.|                    false|                     false| Literature & Writing|Literacy & Language|                   null|                null|   Technology|highest poverty|Grades 9-12|                   null|     null|                      null|                       null|                                 527.4|                                643.17|             0.0|          590.0|       9.0|                            false|                     false|     completed| 2002-11-11|    2002-12-06|                  2002-12-06|     2003-12-31|\n",
      "+--------------------+--------------------+--------------------+-------------+---------------+----------------+-----------+------------+----------+------------+--------------------+--------------------+--------------+-------------+-----------------+-----------+-----------+----------------------------+--------------+-------------------------+--------------------------+---------------------+-------------------+-----------------------+--------------------+-------------+---------------+-----------+-----------------------+---------+--------------------------+---------------------------+--------------------------------------+--------------------------------------+----------------+---------------+----------+---------------------------------+--------------------------+--------------+-----------+--------------+----------------------------+---------------+\n",
      "only showing top 20 rows\n",
      "\n"
     ]
    }
   ],
   "source": [
    "df_force.show()"
   ]
  },
  {
   "cell_type": "code",
   "execution_count": 132,
   "metadata": {
    "collapsed": false
   },
   "outputs": [],
   "source": [
    "# subselect relevant columns\n",
    "df_subselect = df_force.select('school_city', 'primary_focus_area', \\\n",
    "                               df_force['resource_type'].alias('resource'), \\\n",
    "                               'poverty_level','grade_level', \\\n",
    "                               df_force['total_price_excluding_optional_support'].alias('p_exclude'), \\\n",
    "                               df_force['total_donations'].alias('total_d'), \\\n",
    "                               df_force['funding_status'].alias('status'))"
   ]
  },
  {
   "cell_type": "code",
   "execution_count": 133,
   "metadata": {
    "collapsed": false,
    "scrolled": true
   },
   "outputs": [
    {
     "name": "stdout",
     "output_type": "stream",
     "text": [
      "+-----------+-------------------+----------+---------------+-----------+---------+-------+---------+\n",
      "|school_city| primary_focus_area|  resource|  poverty_level|grade_level|p_exclude|total_d|   status|\n",
      "+-----------+-------------------+----------+---------------+-----------+---------+-------+---------+\n",
      "|      Bronx|Literacy & Language|     Books|highest poverty|Grades 9-12|   280.02|  308.0|completed|\n",
      "|      Bronx|     Math & Science|Technology|highest poverty|Grades 9-12|   299.95|  329.0|completed|\n",
      "|   New York|   Music & The Arts|     Trips|highest poverty|Grades 9-12|    290.0|  319.0|completed|\n",
      "|      Bronx|   Applied Learning|     Books|highest poverty|Grades 9-12|   348.04|  382.0|completed|\n",
      "|      Bronx|   Applied Learning|     Books|highest poverty|Grades 9-12|   297.39|  327.0|completed|\n",
      "|      Bronx|Literacy & Language|     Books|highest poverty|Grades 9-12|   388.39| 388.39|completed|\n",
      "|      Bronx|   History & Civics|Technology|highest poverty|Grades 9-12|    402.0|  402.0|completed|\n",
      "|      Bronx|   History & Civics|  Visitors|highest poverty|Grades 9-12|    400.0|  440.0|completed|\n",
      "|      BRONX|Literacy & Language|     Books|    low poverty|Grades 9-12|   321.19|  353.0|completed|\n",
      "|      Bronx|     Math & Science|Technology|highest poverty|Grades 9-12|    900.0| 1000.0|completed|\n",
      "|      Bronx|Literacy & Language|     Books|highest poverty|Grades 9-12|   846.35| 846.35|completed|\n",
      "|   New York|   Music & The Arts|     Other|highest poverty|Grades 9-12|    300.0|  300.0|completed|\n",
      "|      Bronx|   History & Civics|Technology|highest poverty|Grades 9-12|   4000.0| 4600.0|completed|\n",
      "|   New York|Literacy & Language|     Books|highest poverty| Grades 6-8|   335.27| 335.27|completed|\n",
      "|      Bronx|   Applied Learning|  Supplies|highest poverty|Grades 9-12|   230.89|  253.0|completed|\n",
      "|   New York|   Music & The Arts|     Other|highest poverty|Grades 9-12|    350.0|  350.0|completed|\n",
      "|   New York|   Applied Learning|Technology|highest poverty|Grades 9-12|   2700.0| 2970.0|completed|\n",
      "|      BRONX|   Music & The Arts|  Supplies|    low poverty|Grades 9-12|    500.0|  500.0|completed|\n",
      "|   Brooklyn|     Math & Science|     Trips|highest poverty|Grades 9-12|    650.0|  700.0|completed|\n",
      "|      Bronx|Literacy & Language|Technology|highest poverty|Grades 9-12|    527.4|  590.0|completed|\n",
      "+-----------+-------------------+----------+---------------+-----------+---------+-------+---------+\n",
      "only showing top 20 rows\n",
      "\n"
     ]
    }
   ],
   "source": [
    "# formats nicely now\n",
    "df_subselect.show()"
   ]
  },
  {
   "cell_type": "markdown",
   "metadata": {},
   "source": [
    "\n",
    "## Null Values Checks (take 2)"
   ]
  },
  {
   "cell_type": "code",
   "execution_count": 136,
   "metadata": {
    "collapsed": false,
    "scrolled": true
   },
   "outputs": [
    {
     "data": {
      "text/plain": [
       "[]"
      ]
     },
     "execution_count": 136,
     "metadata": {},
     "output_type": "execute_result"
    }
   ],
   "source": [
    "df_force.filter(df_force['students_reached'].isNull()).select('students_reached', 'funding_status').collect()"
   ]
  },
  {
   "cell_type": "code",
   "execution_count": 137,
   "metadata": {
    "collapsed": true
   },
   "outputs": [],
   "source": [
    "df_no_null = df_force.fillna(0, ['students_reached'])"
   ]
  },
  {
   "cell_type": "markdown",
   "metadata": {},
   "source": [
    "## Frequent Items"
   ]
  },
  {
   "cell_type": "code",
   "execution_count": 138,
   "metadata": {
    "collapsed": false
   },
   "outputs": [],
   "source": [
    "freq_items = df_no_null.freqItems(['school_city', 'primary_focus_area', \\\n",
    "                                     'grade_level', 'poverty_level','resource_type'], 0.7).collect()"
   ]
  },
  {
   "cell_type": "code",
   "execution_count": 139,
   "metadata": {
    "collapsed": false
   },
   "outputs": [
    {
     "data": {
      "text/plain": [
       "Row(school_city_freqItems=[], primary_focus_area_freqItems=[], grade_level_freqItems=[], poverty_level_freqItems=[u'highest poverty'], resource_type_freqItems=[u'Supplies'])"
      ]
     },
     "execution_count": 139,
     "metadata": {},
     "output_type": "execute_result"
    }
   ],
   "source": [
    "freq_items[0]"
   ]
  },
  {
   "cell_type": "code",
   "execution_count": 140,
   "metadata": {
    "collapsed": false
   },
   "outputs": [
    {
     "data": {
      "text/plain": [
       "Row(num_donors_freqItems=[2.0, 1.0, 0.0])"
      ]
     },
     "execution_count": 140,
     "metadata": {},
     "output_type": "execute_result"
    }
   ],
   "source": [
    "df_no_null.freqItems(['num_donors'], .3).collect()[0]"
   ]
  },
  {
   "cell_type": "markdown",
   "metadata": {},
   "source": [
    "## Distributions"
   ]
  },
  {
   "cell_type": "code",
   "execution_count": 142,
   "metadata": {
    "collapsed": false
   },
   "outputs": [
    {
     "name": "stdout",
     "output_type": "stream",
     "text": [
      "+--------------+-----+\n",
      "|funding_status|count|\n",
      "+--------------+-----+\n",
      "|     completed| 8537|\n",
      "|   reallocated|   80|\n",
      "|       expired| 1383|\n",
      "+--------------+-----+\n",
      "\n"
     ]
    }
   ],
   "source": [
    "df_no_null.groupby('funding_status').count().show()"
   ]
  },
  {
   "cell_type": "code",
   "execution_count": 143,
   "metadata": {
    "collapsed": false
   },
   "outputs": [],
   "source": [
    "df_complete = df_no_null.filter(df_no_null['funding_status'] == 'completed')\n",
    "df_expired = df_no_null.filter(df_no_null['funding_status'] == 'expired')"
   ]
  },
  {
   "cell_type": "code",
   "execution_count": 144,
   "metadata": {
    "collapsed": false
   },
   "outputs": [
    {
     "ename": "AnalysisException",
     "evalue": "path file:/Users/jonathandinu/spark-ds-applications/jay/data/donors_choose/opendata_completed.json already exists.;",
     "output_type": "error",
     "traceback": [
      "\u001b[0;31m---------------------------------------------------------------------------\u001b[0m",
      "\u001b[0;31mAnalysisException\u001b[0m                         Traceback (most recent call last)",
      "\u001b[0;32m<ipython-input-144-0fd2b56ad22f>\u001b[0m in \u001b[0;36m<module>\u001b[0;34m()\u001b[0m\n\u001b[0;32m----> 1\u001b[0;31m \u001b[0mdf_complete\u001b[0m\u001b[0;34m.\u001b[0m\u001b[0mwrite\u001b[0m\u001b[0;34m.\u001b[0m\u001b[0mjson\u001b[0m\u001b[0;34m(\u001b[0m\u001b[0;34m'file://'\u001b[0m \u001b[0;34m+\u001b[0m \u001b[0mcwd\u001b[0m \u001b[0;34m+\u001b[0m \u001b[0;34m'/data/donors_choose/opendata_completed.json'\u001b[0m\u001b[0;34m)\u001b[0m\u001b[0;34m\u001b[0m\u001b[0m\n\u001b[0m\u001b[1;32m      2\u001b[0m \u001b[0mdf_expired\u001b[0m\u001b[0;34m.\u001b[0m\u001b[0mwrite\u001b[0m\u001b[0;34m.\u001b[0m\u001b[0mjson\u001b[0m\u001b[0;34m(\u001b[0m\u001b[0;34m'file://'\u001b[0m \u001b[0;34m+\u001b[0m \u001b[0mcwd\u001b[0m \u001b[0;34m+\u001b[0m \u001b[0;34m'/data/donors_choose/opendata_expired.json'\u001b[0m\u001b[0;34m)\u001b[0m\u001b[0;34m\u001b[0m\u001b[0m\n",
      "\u001b[0;32m/Users/jonathandinu/spark-1.5.0-bin-hadoop2.6/python/pyspark/sql/readwriter.pyc\u001b[0m in \u001b[0;36mjson\u001b[0;34m(self, path, mode)\u001b[0m\n\u001b[1;32m    384\u001b[0m         \u001b[0;34m>>\u001b[0m\u001b[0;34m>\u001b[0m \u001b[0mdf\u001b[0m\u001b[0;34m.\u001b[0m\u001b[0mwrite\u001b[0m\u001b[0;34m.\u001b[0m\u001b[0mjson\u001b[0m\u001b[0;34m(\u001b[0m\u001b[0mos\u001b[0m\u001b[0;34m.\u001b[0m\u001b[0mpath\u001b[0m\u001b[0;34m.\u001b[0m\u001b[0mjoin\u001b[0m\u001b[0;34m(\u001b[0m\u001b[0mtempfile\u001b[0m\u001b[0;34m.\u001b[0m\u001b[0mmkdtemp\u001b[0m\u001b[0;34m(\u001b[0m\u001b[0;34m)\u001b[0m\u001b[0;34m,\u001b[0m \u001b[0;34m'data'\u001b[0m\u001b[0;34m)\u001b[0m\u001b[0;34m)\u001b[0m\u001b[0;34m\u001b[0m\u001b[0m\n\u001b[1;32m    385\u001b[0m         \"\"\"\n\u001b[0;32m--> 386\u001b[0;31m         \u001b[0mself\u001b[0m\u001b[0;34m.\u001b[0m\u001b[0mmode\u001b[0m\u001b[0;34m(\u001b[0m\u001b[0mmode\u001b[0m\u001b[0;34m)\u001b[0m\u001b[0;34m.\u001b[0m\u001b[0m_jwrite\u001b[0m\u001b[0;34m.\u001b[0m\u001b[0mjson\u001b[0m\u001b[0;34m(\u001b[0m\u001b[0mpath\u001b[0m\u001b[0;34m)\u001b[0m\u001b[0;34m\u001b[0m\u001b[0m\n\u001b[0m\u001b[1;32m    387\u001b[0m \u001b[0;34m\u001b[0m\u001b[0m\n\u001b[1;32m    388\u001b[0m     \u001b[0;34m@\u001b[0m\u001b[0msince\u001b[0m\u001b[0;34m(\u001b[0m\u001b[0;36m1.4\u001b[0m\u001b[0;34m)\u001b[0m\u001b[0;34m\u001b[0m\u001b[0m\n",
      "\u001b[0;32m/usr/local/lib/python2.7/site-packages/py4j/java_gateway.pyc\u001b[0m in \u001b[0;36m__call__\u001b[0;34m(self, *args)\u001b[0m\n\u001b[1;32m    811\u001b[0m         \u001b[0manswer\u001b[0m \u001b[0;34m=\u001b[0m \u001b[0mself\u001b[0m\u001b[0;34m.\u001b[0m\u001b[0mgateway_client\u001b[0m\u001b[0;34m.\u001b[0m\u001b[0msend_command\u001b[0m\u001b[0;34m(\u001b[0m\u001b[0mcommand\u001b[0m\u001b[0;34m)\u001b[0m\u001b[0;34m\u001b[0m\u001b[0m\n\u001b[1;32m    812\u001b[0m         return_value = get_return_value(\n\u001b[0;32m--> 813\u001b[0;31m             answer, self.gateway_client, self.target_id, self.name)\n\u001b[0m\u001b[1;32m    814\u001b[0m \u001b[0;34m\u001b[0m\u001b[0m\n\u001b[1;32m    815\u001b[0m         \u001b[0;32mfor\u001b[0m \u001b[0mtemp_arg\u001b[0m \u001b[0;32min\u001b[0m \u001b[0mtemp_args\u001b[0m\u001b[0;34m:\u001b[0m\u001b[0;34m\u001b[0m\u001b[0m\n",
      "\u001b[0;32m/Users/jonathandinu/spark-1.5.0-bin-hadoop2.6/python/pyspark/sql/utils.pyc\u001b[0m in \u001b[0;36mdeco\u001b[0;34m(*a, **kw)\u001b[0m\n\u001b[1;32m     38\u001b[0m             \u001b[0ms\u001b[0m \u001b[0;34m=\u001b[0m \u001b[0me\u001b[0m\u001b[0;34m.\u001b[0m\u001b[0mjava_exception\u001b[0m\u001b[0;34m.\u001b[0m\u001b[0mtoString\u001b[0m\u001b[0;34m(\u001b[0m\u001b[0;34m)\u001b[0m\u001b[0;34m\u001b[0m\u001b[0m\n\u001b[1;32m     39\u001b[0m             \u001b[0;32mif\u001b[0m \u001b[0ms\u001b[0m\u001b[0;34m.\u001b[0m\u001b[0mstartswith\u001b[0m\u001b[0;34m(\u001b[0m\u001b[0;34m'org.apache.spark.sql.AnalysisException: '\u001b[0m\u001b[0;34m)\u001b[0m\u001b[0;34m:\u001b[0m\u001b[0;34m\u001b[0m\u001b[0m\n\u001b[0;32m---> 40\u001b[0;31m                 \u001b[0;32mraise\u001b[0m \u001b[0mAnalysisException\u001b[0m\u001b[0;34m(\u001b[0m\u001b[0ms\u001b[0m\u001b[0;34m.\u001b[0m\u001b[0msplit\u001b[0m\u001b[0;34m(\u001b[0m\u001b[0;34m': '\u001b[0m\u001b[0;34m,\u001b[0m \u001b[0;36m1\u001b[0m\u001b[0;34m)\u001b[0m\u001b[0;34m[\u001b[0m\u001b[0;36m1\u001b[0m\u001b[0;34m]\u001b[0m\u001b[0;34m)\u001b[0m\u001b[0;34m\u001b[0m\u001b[0m\n\u001b[0m\u001b[1;32m     41\u001b[0m             \u001b[0;32mif\u001b[0m \u001b[0ms\u001b[0m\u001b[0;34m.\u001b[0m\u001b[0mstartswith\u001b[0m\u001b[0;34m(\u001b[0m\u001b[0;34m'java.lang.IllegalArgumentException: '\u001b[0m\u001b[0;34m)\u001b[0m\u001b[0;34m:\u001b[0m\u001b[0;34m\u001b[0m\u001b[0m\n\u001b[1;32m     42\u001b[0m                 \u001b[0;32mraise\u001b[0m \u001b[0mIllegalArgumentException\u001b[0m\u001b[0;34m(\u001b[0m\u001b[0ms\u001b[0m\u001b[0;34m.\u001b[0m\u001b[0msplit\u001b[0m\u001b[0;34m(\u001b[0m\u001b[0;34m': '\u001b[0m\u001b[0;34m,\u001b[0m \u001b[0;36m1\u001b[0m\u001b[0;34m)\u001b[0m\u001b[0;34m[\u001b[0m\u001b[0;36m1\u001b[0m\u001b[0;34m]\u001b[0m\u001b[0;34m)\u001b[0m\u001b[0;34m\u001b[0m\u001b[0m\n",
      "\u001b[0;31mAnalysisException\u001b[0m: path file:/Users/jonathandinu/spark-ds-applications/jay/data/donors_choose/opendata_completed.json already exists.;"
     ]
    }
   ],
   "source": [
    "df_complete.write.json('file://' + cwd + '/data/donors_choose/opendata_completed.json')\n",
    "df_expired.write.json('file://' + cwd + '/data/donors_choose/opendata_expired.json')"
   ]
  },
  {
   "cell_type": "code",
   "execution_count": 145,
   "metadata": {
    "collapsed": false
   },
   "outputs": [
    {
     "ename": "AnalysisException",
     "evalue": "path file:/Users/jonathandinu/spark-ds-applications/jay/data/donors_choose/agg/num_donors_completed.json already exists.;",
     "output_type": "error",
     "traceback": [
      "\u001b[0;31m---------------------------------------------------------------------------\u001b[0m",
      "\u001b[0;31mAnalysisException\u001b[0m                         Traceback (most recent call last)",
      "\u001b[0;32m<ipython-input-145-f5211ac7b2ec>\u001b[0m in \u001b[0;36m<module>\u001b[0;34m()\u001b[0m\n\u001b[0;32m----> 1\u001b[0;31m \u001b[0mdf_complete\u001b[0m\u001b[0;34m.\u001b[0m\u001b[0mgroupby\u001b[0m\u001b[0;34m(\u001b[0m\u001b[0;34m'num_donors'\u001b[0m\u001b[0;34m)\u001b[0m\u001b[0;34m.\u001b[0m\u001b[0mcount\u001b[0m\u001b[0;34m(\u001b[0m\u001b[0;34m)\u001b[0m\u001b[0;34m.\u001b[0m\u001b[0mwrite\u001b[0m\u001b[0;34m.\u001b[0m\u001b[0mjson\u001b[0m\u001b[0;34m(\u001b[0m\u001b[0;34m'file://'\u001b[0m \u001b[0;34m+\u001b[0m \u001b[0mcwd\u001b[0m \u001b[0;34m+\u001b[0m \u001b[0;34m'/data/donors_choose/agg/num_donors_completed.json'\u001b[0m\u001b[0;34m)\u001b[0m\u001b[0;34m\u001b[0m\u001b[0m\n\u001b[0m\u001b[1;32m      2\u001b[0m \u001b[0mdf_expired\u001b[0m\u001b[0;34m.\u001b[0m\u001b[0mgroupby\u001b[0m\u001b[0;34m(\u001b[0m\u001b[0;34m'num_donors'\u001b[0m\u001b[0;34m)\u001b[0m\u001b[0;34m.\u001b[0m\u001b[0mcount\u001b[0m\u001b[0;34m(\u001b[0m\u001b[0;34m)\u001b[0m\u001b[0;34m.\u001b[0m\u001b[0mwrite\u001b[0m\u001b[0;34m.\u001b[0m\u001b[0mjson\u001b[0m\u001b[0;34m(\u001b[0m\u001b[0;34m'file://'\u001b[0m \u001b[0;34m+\u001b[0m \u001b[0mcwd\u001b[0m \u001b[0;34m+\u001b[0m \u001b[0;34m'/data/donors_choose/agg/num_donors_expired.json'\u001b[0m\u001b[0;34m)\u001b[0m\u001b[0;34m\u001b[0m\u001b[0m\n",
      "\u001b[0;32m/Users/jonathandinu/spark-1.5.0-bin-hadoop2.6/python/pyspark/sql/readwriter.pyc\u001b[0m in \u001b[0;36mjson\u001b[0;34m(self, path, mode)\u001b[0m\n\u001b[1;32m    384\u001b[0m         \u001b[0;34m>>\u001b[0m\u001b[0;34m>\u001b[0m \u001b[0mdf\u001b[0m\u001b[0;34m.\u001b[0m\u001b[0mwrite\u001b[0m\u001b[0;34m.\u001b[0m\u001b[0mjson\u001b[0m\u001b[0;34m(\u001b[0m\u001b[0mos\u001b[0m\u001b[0;34m.\u001b[0m\u001b[0mpath\u001b[0m\u001b[0;34m.\u001b[0m\u001b[0mjoin\u001b[0m\u001b[0;34m(\u001b[0m\u001b[0mtempfile\u001b[0m\u001b[0;34m.\u001b[0m\u001b[0mmkdtemp\u001b[0m\u001b[0;34m(\u001b[0m\u001b[0;34m)\u001b[0m\u001b[0;34m,\u001b[0m \u001b[0;34m'data'\u001b[0m\u001b[0;34m)\u001b[0m\u001b[0;34m)\u001b[0m\u001b[0;34m\u001b[0m\u001b[0m\n\u001b[1;32m    385\u001b[0m         \"\"\"\n\u001b[0;32m--> 386\u001b[0;31m         \u001b[0mself\u001b[0m\u001b[0;34m.\u001b[0m\u001b[0mmode\u001b[0m\u001b[0;34m(\u001b[0m\u001b[0mmode\u001b[0m\u001b[0;34m)\u001b[0m\u001b[0;34m.\u001b[0m\u001b[0m_jwrite\u001b[0m\u001b[0;34m.\u001b[0m\u001b[0mjson\u001b[0m\u001b[0;34m(\u001b[0m\u001b[0mpath\u001b[0m\u001b[0;34m)\u001b[0m\u001b[0;34m\u001b[0m\u001b[0m\n\u001b[0m\u001b[1;32m    387\u001b[0m \u001b[0;34m\u001b[0m\u001b[0m\n\u001b[1;32m    388\u001b[0m     \u001b[0;34m@\u001b[0m\u001b[0msince\u001b[0m\u001b[0;34m(\u001b[0m\u001b[0;36m1.4\u001b[0m\u001b[0;34m)\u001b[0m\u001b[0;34m\u001b[0m\u001b[0m\n",
      "\u001b[0;32m/usr/local/lib/python2.7/site-packages/py4j/java_gateway.pyc\u001b[0m in \u001b[0;36m__call__\u001b[0;34m(self, *args)\u001b[0m\n\u001b[1;32m    811\u001b[0m         \u001b[0manswer\u001b[0m \u001b[0;34m=\u001b[0m \u001b[0mself\u001b[0m\u001b[0;34m.\u001b[0m\u001b[0mgateway_client\u001b[0m\u001b[0;34m.\u001b[0m\u001b[0msend_command\u001b[0m\u001b[0;34m(\u001b[0m\u001b[0mcommand\u001b[0m\u001b[0;34m)\u001b[0m\u001b[0;34m\u001b[0m\u001b[0m\n\u001b[1;32m    812\u001b[0m         return_value = get_return_value(\n\u001b[0;32m--> 813\u001b[0;31m             answer, self.gateway_client, self.target_id, self.name)\n\u001b[0m\u001b[1;32m    814\u001b[0m \u001b[0;34m\u001b[0m\u001b[0m\n\u001b[1;32m    815\u001b[0m         \u001b[0;32mfor\u001b[0m \u001b[0mtemp_arg\u001b[0m \u001b[0;32min\u001b[0m \u001b[0mtemp_args\u001b[0m\u001b[0;34m:\u001b[0m\u001b[0;34m\u001b[0m\u001b[0m\n",
      "\u001b[0;32m/Users/jonathandinu/spark-1.5.0-bin-hadoop2.6/python/pyspark/sql/utils.pyc\u001b[0m in \u001b[0;36mdeco\u001b[0;34m(*a, **kw)\u001b[0m\n\u001b[1;32m     38\u001b[0m             \u001b[0ms\u001b[0m \u001b[0;34m=\u001b[0m \u001b[0me\u001b[0m\u001b[0;34m.\u001b[0m\u001b[0mjava_exception\u001b[0m\u001b[0;34m.\u001b[0m\u001b[0mtoString\u001b[0m\u001b[0;34m(\u001b[0m\u001b[0;34m)\u001b[0m\u001b[0;34m\u001b[0m\u001b[0m\n\u001b[1;32m     39\u001b[0m             \u001b[0;32mif\u001b[0m \u001b[0ms\u001b[0m\u001b[0;34m.\u001b[0m\u001b[0mstartswith\u001b[0m\u001b[0;34m(\u001b[0m\u001b[0;34m'org.apache.spark.sql.AnalysisException: '\u001b[0m\u001b[0;34m)\u001b[0m\u001b[0;34m:\u001b[0m\u001b[0;34m\u001b[0m\u001b[0m\n\u001b[0;32m---> 40\u001b[0;31m                 \u001b[0;32mraise\u001b[0m \u001b[0mAnalysisException\u001b[0m\u001b[0;34m(\u001b[0m\u001b[0ms\u001b[0m\u001b[0;34m.\u001b[0m\u001b[0msplit\u001b[0m\u001b[0;34m(\u001b[0m\u001b[0;34m': '\u001b[0m\u001b[0;34m,\u001b[0m \u001b[0;36m1\u001b[0m\u001b[0;34m)\u001b[0m\u001b[0;34m[\u001b[0m\u001b[0;36m1\u001b[0m\u001b[0;34m]\u001b[0m\u001b[0;34m)\u001b[0m\u001b[0;34m\u001b[0m\u001b[0m\n\u001b[0m\u001b[1;32m     41\u001b[0m             \u001b[0;32mif\u001b[0m \u001b[0ms\u001b[0m\u001b[0;34m.\u001b[0m\u001b[0mstartswith\u001b[0m\u001b[0;34m(\u001b[0m\u001b[0;34m'java.lang.IllegalArgumentException: '\u001b[0m\u001b[0;34m)\u001b[0m\u001b[0;34m:\u001b[0m\u001b[0;34m\u001b[0m\u001b[0m\n\u001b[1;32m     42\u001b[0m                 \u001b[0;32mraise\u001b[0m \u001b[0mIllegalArgumentException\u001b[0m\u001b[0;34m(\u001b[0m\u001b[0ms\u001b[0m\u001b[0;34m.\u001b[0m\u001b[0msplit\u001b[0m\u001b[0;34m(\u001b[0m\u001b[0;34m': '\u001b[0m\u001b[0;34m,\u001b[0m \u001b[0;36m1\u001b[0m\u001b[0;34m)\u001b[0m\u001b[0;34m[\u001b[0m\u001b[0;36m1\u001b[0m\u001b[0;34m]\u001b[0m\u001b[0;34m)\u001b[0m\u001b[0;34m\u001b[0m\u001b[0m\n",
      "\u001b[0;31mAnalysisException\u001b[0m: path file:/Users/jonathandinu/spark-ds-applications/jay/data/donors_choose/agg/num_donors_completed.json already exists.;"
     ]
    }
   ],
   "source": [
    "df_complete.groupby('num_donors').count().write.json('file://' + cwd + '/data/donors_choose/agg/num_donors_completed.json')\n",
    "df_expired.groupby('num_donors').count().write.json('file://' + cwd + '/data/donors_choose/agg/num_donors_expired.json')"
   ]
  },
  {
   "cell_type": "code",
   "execution_count": 70,
   "metadata": {
    "collapsed": false
   },
   "outputs": [
    {
     "name": "stdout",
     "output_type": "stream",
     "text": [
      "904K\tdata//donors_choose/agg/num_donors_completed.json\r\n",
      "904K\tdata//donors_choose/agg/num_donors_expired.json\r\n",
      "1.8M\tdata//donors_choose/agg\r\n",
      "679M\tdata//donors_choose/opendata_completed.json\r\n",
      "259M\tdata//donors_choose/opendata_expired.json\r\n",
      "2.4G\tdata//donors_choose\r\n",
      "8.0M\tdata//readychef\r\n",
      "2.4G\tdata/\r\n"
     ]
    }
   ],
   "source": [
    "!du -h data/"
   ]
  },
  {
   "cell_type": "code",
   "execution_count": 146,
   "metadata": {
    "collapsed": false
   },
   "outputs": [
    {
     "name": "stdout",
     "output_type": "stream",
     "text": [
      "+-------+------------------+------------------+------------------+------------------+------------------+\n",
      "|summary|   total_donations|        num_donors|  students_reached|         p_exclude|         p_include|\n",
      "+-------+------------------+------------------+------------------+------------------+------------------+\n",
      "|  count|             10000|             10000|             10000|             10000|             10000|\n",
      "|   mean|452.84186196632385|            1.3682|           58.8883| 604.7092662059783| 737.4513990449906|\n",
      "| stddev| 2535.263910477116|2.5814780185002544|133.99932098003333|10029.561827845313|12231.173622616665|\n",
      "|    min|               0.0|               0.0|               0.0|               0.0|               0.0|\n",
      "|    max|          244778.0|             161.0|            4000.0|         1000000.0|         1219512.2|\n",
      "+-------+------------------+------------------+------------------+------------------+------------------+\n",
      "\n"
     ]
    }
   ],
   "source": [
    "df_no_null.select('total_donations', 'num_donors', 'students_reached', \\\n",
    "                  df_no_null['total_price_excluding_optional_support'].alias('p_exclude'), \\\n",
    "                  df_no_null['total_price_including_optional_support'].alias('p_include')) \\\n",
    "          .describe().show()"
   ]
  },
  {
   "cell_type": "code",
   "execution_count": 152,
   "metadata": {
    "collapsed": false
   },
   "outputs": [],
   "source": [
    "price_rdd = df_no_null.select('total_price_excluding_optional_support').rdd.map(lambda r: r.asDict().values()[0])"
   ]
  },
  {
   "cell_type": "code",
   "execution_count": 153,
   "metadata": {
    "collapsed": false
   },
   "outputs": [
    {
     "data": {
      "text/plain": [
       "[1000000.0, 35517.0, 20000.0]"
      ]
     },
     "execution_count": 153,
     "metadata": {},
     "output_type": "execute_result"
    }
   ],
   "source": [
    "# massive outliers, will skew histogram buckets\n",
    "outliers = price_rdd.top(3)\n",
    "outliers"
   ]
  },
  {
   "cell_type": "code",
   "execution_count": 154,
   "metadata": {
    "collapsed": true
   },
   "outputs": [],
   "source": [
    "# for continuous columns we can use Histogram RDD function\n",
    "hist = price_rdd.filter(lambda x: x not in outliers).histogram(100)"
   ]
  },
  {
   "cell_type": "code",
   "execution_count": 155,
   "metadata": {
    "collapsed": false
   },
   "outputs": [
    {
     "data": {
      "text/plain": [
       "([0.0,\n",
       "  187.0,\n",
       "  374.0,\n",
       "  561.0,\n",
       "  748.0,\n",
       "  935.0,\n",
       "  1122.0,\n",
       "  1309.0,\n",
       "  1496.0,\n",
       "  1683.0,\n",
       "  1870.0,\n",
       "  2057.0,\n",
       "  2244.0,\n",
       "  2431.0,\n",
       "  2618.0,\n",
       "  2805.0,\n",
       "  2992.0,\n",
       "  3179.0,\n",
       "  3366.0,\n",
       "  3553.0,\n",
       "  3740.0,\n",
       "  3927.0,\n",
       "  4114.0,\n",
       "  4301.0,\n",
       "  4488.0,\n",
       "  4675.0,\n",
       "  4862.0,\n",
       "  5049.0,\n",
       "  5236.0,\n",
       "  5423.0,\n",
       "  5610.0,\n",
       "  5797.0,\n",
       "  5984.0,\n",
       "  6171.0,\n",
       "  6358.0,\n",
       "  6545.0,\n",
       "  6732.0,\n",
       "  6919.0,\n",
       "  7106.0,\n",
       "  7293.0,\n",
       "  7480.0,\n",
       "  7667.0,\n",
       "  7854.0,\n",
       "  8041.0,\n",
       "  8228.0,\n",
       "  8415.0,\n",
       "  8602.0,\n",
       "  8789.0,\n",
       "  8976.0,\n",
       "  9163.0,\n",
       "  9350.0,\n",
       "  9537.0,\n",
       "  9724.0,\n",
       "  9911.0,\n",
       "  10098.0,\n",
       "  10285.0,\n",
       "  10472.0,\n",
       "  10659.0,\n",
       "  10846.0,\n",
       "  11033.0,\n",
       "  11220.0,\n",
       "  11407.0,\n",
       "  11594.0,\n",
       "  11781.0,\n",
       "  11968.0,\n",
       "  12155.0,\n",
       "  12342.0,\n",
       "  12529.0,\n",
       "  12716.0,\n",
       "  12903.0,\n",
       "  13090.0,\n",
       "  13277.0,\n",
       "  13464.0,\n",
       "  13651.0,\n",
       "  13838.0,\n",
       "  14025.0,\n",
       "  14212.0,\n",
       "  14399.0,\n",
       "  14586.0,\n",
       "  14773.0,\n",
       "  14960.0,\n",
       "  15147.0,\n",
       "  15334.0,\n",
       "  15521.0,\n",
       "  15708.0,\n",
       "  15895.0,\n",
       "  16082.0,\n",
       "  16269.0,\n",
       "  16456.0,\n",
       "  16643.0,\n",
       "  16830.0,\n",
       "  17017.0,\n",
       "  17204.0,\n",
       "  17391.0,\n",
       "  17578.0,\n",
       "  17765.0,\n",
       "  17952.0,\n",
       "  18139.0,\n",
       "  18326.0,\n",
       "  18513.0,\n",
       "  18700.0],\n",
       " [2561,\n",
       "  3100,\n",
       "  2006,\n",
       "  805,\n",
       "  424,\n",
       "  315,\n",
       "  184,\n",
       "  123,\n",
       "  92,\n",
       "  71,\n",
       "  57,\n",
       "  43,\n",
       "  43,\n",
       "  23,\n",
       "  18,\n",
       "  13,\n",
       "  18,\n",
       "  11,\n",
       "  6,\n",
       "  3,\n",
       "  5,\n",
       "  7,\n",
       "  4,\n",
       "  5,\n",
       "  4,\n",
       "  7,\n",
       "  5,\n",
       "  6,\n",
       "  2,\n",
       "  3,\n",
       "  1,\n",
       "  3,\n",
       "  2,\n",
       "  1,\n",
       "  1,\n",
       "  0,\n",
       "  0,\n",
       "  0,\n",
       "  1,\n",
       "  4,\n",
       "  1,\n",
       "  2,\n",
       "  3,\n",
       "  1,\n",
       "  1,\n",
       "  0,\n",
       "  1,\n",
       "  0,\n",
       "  0,\n",
       "  1,\n",
       "  0,\n",
       "  0,\n",
       "  2,\n",
       "  0,\n",
       "  1,\n",
       "  1,\n",
       "  0,\n",
       "  0,\n",
       "  0,\n",
       "  0,\n",
       "  0,\n",
       "  2,\n",
       "  0,\n",
       "  0,\n",
       "  1,\n",
       "  1,\n",
       "  0,\n",
       "  0,\n",
       "  0,\n",
       "  0,\n",
       "  0,\n",
       "  0,\n",
       "  0,\n",
       "  0,\n",
       "  0,\n",
       "  0,\n",
       "  0,\n",
       "  0,\n",
       "  0,\n",
       "  0,\n",
       "  0,\n",
       "  0,\n",
       "  0,\n",
       "  0,\n",
       "  0,\n",
       "  0,\n",
       "  0,\n",
       "  0,\n",
       "  1,\n",
       "  0,\n",
       "  0,\n",
       "  0,\n",
       "  0,\n",
       "  0,\n",
       "  0,\n",
       "  0,\n",
       "  0,\n",
       "  0,\n",
       "  0,\n",
       "  1])"
      ]
     },
     "execution_count": 155,
     "metadata": {},
     "output_type": "execute_result"
    }
   ],
   "source": [
    "hist"
   ]
  },
  {
   "cell_type": "code",
   "execution_count": 156,
   "metadata": {
    "collapsed": false
   },
   "outputs": [
    {
     "name": "stdout",
     "output_type": "stream",
     "text": [
      "Populating the interactive namespace from numpy and matplotlib\n"
     ]
    },
    {
     "name": "stderr",
     "output_type": "stream",
     "text": [
      "WARNING: pylab import has clobbered these variables: ['hist']\n",
      "`%matplotlib` prevents importing * from pylab and numpy\n"
     ]
    }
   ],
   "source": [
    "import matplotlib.pyplot as plt\n",
    "import pandas as pd\n",
    "\n",
    "%pylab inline"
   ]
  },
  {
   "cell_type": "code",
   "execution_count": 157,
   "metadata": {
    "collapsed": true
   },
   "outputs": [],
   "source": [
    "def plot_rdd_hist(hist):\n",
    "    idx = []\n",
    "\n",
    "    for i in range(len(hist[0]) - 1):\n",
    "        idx.append((hist[0][i] + hist[0][i+1])/ 2)\n",
    "        \n",
    "    pd.DataFrame({'counts': hist[1], 'index': idx}).set_index('index').plot(figsize=(16,5))"
   ]
  },
  {
   "cell_type": "code",
   "execution_count": 158,
   "metadata": {
    "collapsed": true
   },
   "outputs": [],
   "source": [
    "cheap_histogram = price_rdd.filter(lambda x: x < 5000).histogram(100)"
   ]
  },
  {
   "cell_type": "code",
   "execution_count": 159,
   "metadata": {
    "collapsed": false
   },
   "outputs": [
    {
     "data": {
      "text/plain": [
       "([0.0,\n",
       "  49.65,\n",
       "  99.3,\n",
       "  148.95,\n",
       "  198.6,\n",
       "  248.25,\n",
       "  297.9,\n",
       "  347.55,\n",
       "  397.2,\n",
       "  446.84999999999997,\n",
       "  496.5,\n",
       "  546.15,\n",
       "  595.8,\n",
       "  645.4499999999999,\n",
       "  695.1,\n",
       "  744.75,\n",
       "  794.4,\n",
       "  844.05,\n",
       "  893.6999999999999,\n",
       "  943.35,\n",
       "  993.0,\n",
       "  1042.6499999999999,\n",
       "  1092.3,\n",
       "  1141.95,\n",
       "  1191.6,\n",
       "  1241.25,\n",
       "  1290.8999999999999,\n",
       "  1340.55,\n",
       "  1390.2,\n",
       "  1439.85,\n",
       "  1489.5,\n",
       "  1539.1499999999999,\n",
       "  1588.8,\n",
       "  1638.45,\n",
       "  1688.1,\n",
       "  1737.75,\n",
       "  1787.3999999999999,\n",
       "  1837.05,\n",
       "  1886.7,\n",
       "  1936.35,\n",
       "  1986.0,\n",
       "  2035.6499999999999,\n",
       "  2085.2999999999997,\n",
       "  2134.95,\n",
       "  2184.6,\n",
       "  2234.25,\n",
       "  2283.9,\n",
       "  2333.5499999999997,\n",
       "  2383.2,\n",
       "  2432.85,\n",
       "  2482.5,\n",
       "  2532.15,\n",
       "  2581.7999999999997,\n",
       "  2631.45,\n",
       "  2681.1,\n",
       "  2730.75,\n",
       "  2780.4,\n",
       "  2830.0499999999997,\n",
       "  2879.7,\n",
       "  2929.35,\n",
       "  2979.0,\n",
       "  3028.65,\n",
       "  3078.2999999999997,\n",
       "  3127.95,\n",
       "  3177.6,\n",
       "  3227.25,\n",
       "  3276.9,\n",
       "  3326.5499999999997,\n",
       "  3376.2,\n",
       "  3425.85,\n",
       "  3475.5,\n",
       "  3525.15,\n",
       "  3574.7999999999997,\n",
       "  3624.45,\n",
       "  3674.1,\n",
       "  3723.75,\n",
       "  3773.4,\n",
       "  3823.0499999999997,\n",
       "  3872.7,\n",
       "  3922.35,\n",
       "  3972.0,\n",
       "  4021.65,\n",
       "  4071.2999999999997,\n",
       "  4120.95,\n",
       "  4170.599999999999,\n",
       "  4220.25,\n",
       "  4269.9,\n",
       "  4319.55,\n",
       "  4369.2,\n",
       "  4418.849999999999,\n",
       "  4468.5,\n",
       "  4518.15,\n",
       "  4567.8,\n",
       "  4617.45,\n",
       "  4667.099999999999,\n",
       "  4716.75,\n",
       "  4766.4,\n",
       "  4816.05,\n",
       "  4865.7,\n",
       "  4915.349999999999,\n",
       "  4965.0],\n",
       " [391,\n",
       "  457,\n",
       "  940,\n",
       "  996,\n",
       "  964,\n",
       "  789,\n",
       "  777,\n",
       "  666,\n",
       "  632,\n",
       "  525,\n",
       "  415,\n",
       "  335,\n",
       "  235,\n",
       "  180,\n",
       "  162,\n",
       "  118,\n",
       "  131,\n",
       "  111,\n",
       "  83,\n",
       "  84,\n",
       "  110,\n",
       "  66,\n",
       "  80,\n",
       "  51,\n",
       "  47,\n",
       "  31,\n",
       "  41,\n",
       "  43,\n",
       "  33,\n",
       "  22,\n",
       "  25,\n",
       "  26,\n",
       "  28,\n",
       "  16,\n",
       "  30,\n",
       "  15,\n",
       "  19,\n",
       "  10,\n",
       "  11,\n",
       "  14,\n",
       "  18,\n",
       "  23,\n",
       "  10,\n",
       "  10,\n",
       "  7,\n",
       "  24,\n",
       "  7,\n",
       "  11,\n",
       "  5,\n",
       "  8,\n",
       "  3,\n",
       "  9,\n",
       "  3,\n",
       "  7,\n",
       "  4,\n",
       "  6,\n",
       "  2,\n",
       "  6,\n",
       "  2,\n",
       "  2,\n",
       "  9,\n",
       "  3,\n",
       "  5,\n",
       "  3,\n",
       "  1,\n",
       "  2,\n",
       "  7,\n",
       "  1,\n",
       "  2,\n",
       "  1,\n",
       "  2,\n",
       "  1,\n",
       "  0,\n",
       "  1,\n",
       "  0,\n",
       "  3,\n",
       "  0,\n",
       "  3,\n",
       "  0,\n",
       "  2,\n",
       "  2,\n",
       "  0,\n",
       "  4,\n",
       "  0,\n",
       "  2,\n",
       "  1,\n",
       "  1,\n",
       "  2,\n",
       "  1,\n",
       "  1,\n",
       "  1,\n",
       "  2,\n",
       "  0,\n",
       "  2,\n",
       "  3,\n",
       "  2,\n",
       "  1,\n",
       "  1,\n",
       "  2,\n",
       "  2])"
      ]
     },
     "execution_count": 159,
     "metadata": {},
     "output_type": "execute_result"
    }
   ],
   "source": [
    "cheap_histogram"
   ]
  },
  {
   "cell_type": "code",
   "execution_count": 161,
   "metadata": {
    "collapsed": false
   },
   "outputs": [
    {
     "data": {
      "image/png": "[encoded data removed]",
      "text/plain": [
       "<matplotlib.figure.Figure at 0x1168a2a10>"
      ]
     },
     "metadata": {},
     "output_type": "display_data"
    }
   ],
   "source": [
    "plot_rdd_hist(cheap_histogram)"
   ]
  },
  {
   "cell_type": "code",
   "execution_count": 162,
   "metadata": {
    "collapsed": false
   },
   "outputs": [
    {
     "data": {
      "image/png": "[encoded data removed]",
      "text/plain": [
       "<matplotlib.figure.Figure at 0x116b19110>"
      ]
     },
     "metadata": {},
     "output_type": "display_data"
    }
   ],
   "source": [
    "plot_rdd_hist(price_rdd.filter(lambda x: x < 30000).histogram(100))"
   ]
  },
  {
   "cell_type": "markdown",
   "metadata": {},
   "source": [
    "The true power of Spark comes when we start passing data and operations between the local driver and the Spark context.  In doing so we can combine operations that are most efficient in Spark on a cluster with local methods that operate on smaller data.  \n",
    "\n",
    "Here we are using Spark to do the heavy lifting of creating distributiions of the relevant queries, and then explore/visualize the condensed data with pandas and matplotlib locally. "
   ]
  },
  {
   "cell_type": "code",
   "execution_count": 163,
   "metadata": {
    "collapsed": true
   },
   "outputs": [],
   "source": [
    "def spark_histogram(df, column):\n",
    "    donor_counts = df.groupby(column).count()\n",
    "    donor_df = donor_counts.toPandas()\n",
    "    donor_df[column] = donor_df.num_donors.astype(float)\n",
    "    return donor_df.sort(column).set_index(column).iloc[:50,:].plot(kind='bar', figsize=(14,5))"
   ]
  },
  {
   "cell_type": "code",
   "execution_count": 164,
   "metadata": {
    "collapsed": false
   },
   "outputs": [
    {
     "data": {
      "text/plain": [
       "<matplotlib.axes._subplots.AxesSubplot at 0x116cfae50>"
      ]
     },
     "execution_count": 164,
     "metadata": {},
     "output_type": "execute_result"
    },
    {
     "data": {
      "image/png": "[encoded data removed]",
      "text/plain": [
       "<matplotlib.figure.Figure at 0x116d02e10>"
      ]
     },
     "metadata": {},
     "output_type": "display_data"
    }
   ],
   "source": [
    "spark_histogram(df_complete, 'num_donors')"
   ]
  },
  {
   "cell_type": "code",
   "execution_count": 86,
   "metadata": {
    "collapsed": false
   },
   "outputs": [
    {
     "data": {
      "text/plain": [
       "<matplotlib.axes._subplots.AxesSubplot at 0x10fc37610>"
      ]
     },
     "execution_count": 86,
     "metadata": {},
     "output_type": "execute_result"
    },
    {
     "data": {
      "image/png": "[encoded data removed]",
      "text/plain": [
       "<matplotlib.figure.Figure at 0x10fc24350>"
      ]
     },
     "metadata": {},
     "output_type": "display_data"
    }
   ],
   "source": [
    "spark_histogram(df_expired, 'num_donors')"
   ]
  },
  {
   "cell_type": "code",
   "execution_count": 87,
   "metadata": {
    "collapsed": true
   },
   "outputs": [],
   "source": [
    "complete = df_complete.groupby('num_donors').count().toPandas()\n",
    "expired = df_expired.groupby('num_donors').count().toPandas()"
   ]
  },
  {
   "cell_type": "code",
   "execution_count": 88,
   "metadata": {
    "collapsed": false
   },
   "outputs": [
    {
     "data": {
      "text/html": [
       "<iframe id=\"igraph\" scrolling=\"no\" style=\"border:none;\"seamless=\"seamless\" src=\"https://plot.ly/~Jay-Oh-eN/155.embed\" height=\"525\" width=\"100%\"></iframe>"
      ],
      "text/plain": [
       "<plotly.tools.PlotlyDisplay object>"
      ]
     },
     "execution_count": 88,
     "metadata": {},
     "output_type": "execute_result"
    }
   ],
   "source": [
    "# And if we want an interactive plot, we can use a tool like plotly\n",
    "# pip install plotly\n",
    "import plotly.plotly as py\n",
    "import plotly.tools as tls\n",
    "from plotly.graph_objs import *\n",
    "\n",
    "data = Data([\n",
    "        Bar(x=complete['num_donors'], y= complete['count'], name=\"Completed Projects\"),\n",
    "        Bar(x=expired['num_donors'], y = expired['count'] , name=\"Expired Projects\")\n",
    "    ])\n",
    "\n",
    "py.iplot(data)"
   ]
  },
  {
   "cell_type": "markdown",
   "metadata": {},
   "source": [
    "## Interactions"
   ]
  },
  {
   "cell_type": "code",
   "execution_count": 89,
   "metadata": {
    "collapsed": false
   },
   "outputs": [
    {
     "name": "stdout",
     "output_type": "stream",
     "text": [
      "+-----------------------------+-------+-----+---------+-----------+\n",
      "|school_charter_funding_status|expired| live|completed|reallocated|\n",
      "+-----------------------------+-------+-----+---------+-----------+\n",
      "|                        false| 191960|38509|   465558|       6297|\n",
      "|                         true|  15893| 3362|    49447|        903|\n",
      "+-----------------------------+-------+-----+---------+-----------+\n",
      "\n",
      "+----------------------------+-------+-----+---------+-----------+\n",
      "|school_magnet_funding_status|expired| live|completed|reallocated|\n",
      "+----------------------------+-------+-----+---------+-----------+\n",
      "|                       false| 190178|38690|   465711|       6483|\n",
      "|                        true|  17675| 3181|    49294|        717|\n",
      "+----------------------------+-------+-----+---------+-----------+\n",
      "\n",
      "+---------------------------+-------+---------+-----+-----------+\n",
      "|school_metro_funding_status|expired|completed| live|reallocated|\n",
      "+---------------------------+-------+---------+-----+-----------+\n",
      "|                   suburban|  51652|   116829|12671|       1434|\n",
      "|                      rural|  32507|    55250| 5358|        737|\n",
      "|                      urban|  94566|   283643|18013|       4089|\n",
      "|                       null|  29128|    59283| 5829|        940|\n",
      "+---------------------------+-------+---------+-----+-----------+\n",
      "\n",
      "+----------------------------+-------+-----+---------+-----------+\n",
      "|poverty_level_funding_status|expired| live|completed|reallocated|\n",
      "+----------------------------+-------+-----+---------+-----------+\n",
      "|                 low poverty|   5399| 1462|    12844|        187|\n",
      "|                high poverty|  60856|11390|   127877|       1715|\n",
      "|            moderate poverty|  33840| 7077|    67536|        784|\n",
      "|             highest poverty| 107758|21942|   306748|       4514|\n",
      "+----------------------------+-------+-----+---------+-----------+\n",
      "\n",
      "+--------------------------+-----+---------+-----------+-------+\n",
      "|grade_level_funding_status| live|completed|reallocated|expired|\n",
      "+--------------------------+-----+---------+-----------+-------+\n",
      "|                      null|   13|       14|          0|      6|\n",
      "|                Grades 6-8| 7206|    87921|       1543|  36275|\n",
      "|                Grades 3-5|13671|   157688|       2112|  65773|\n",
      "|             Grades PreK-2|15628|   192224|       2149|  77265|\n",
      "|               Grades 9-12| 5353|    77158|       1396|  28534|\n",
      "+--------------------------+-----+---------+-----------+-------+\n",
      "\n"
     ]
    }
   ],
   "source": [
    "# categorical/boolean fields can give valuable facets (crosstabs)\n",
    "df_no_null.crosstab('school_charter', 'funding_status').show()\n",
    "df_no_null.crosstab('school_magnet', 'funding_status').show()\n",
    "df_no_null.crosstab('school_metro', 'funding_status').show()\n",
    "df_no_null.crosstab('poverty_level', 'funding_status').show()\n",
    "df_no_null.crosstab('grade_level', 'funding_status').show()"
   ]
  },
  {
   "cell_type": "code",
   "execution_count": 90,
   "metadata": {
    "collapsed": false
   },
   "outputs": [
    {
     "name": "stdout",
     "output_type": "stream",
     "text": [
      "+----------------------------+-----+---------+-----------+-------+\n",
      "|resource_type_funding_status| live|completed|reallocated|expired|\n",
      "+----------------------------+-----+---------+-----------+-------+\n",
      "|                        null|    2|       28|          0|     18|\n",
      "|                       Other| 4542|    54610|        747|  22550|\n",
      "|                       Books| 5982|   118810|       1527|  34554|\n",
      "|                    Visitors|  102|      806|          6|    341|\n",
      "|                    Supplies|11939|   185870|       2602|  63406|\n",
      "|                       Trips|  347|     4381|         62|   1474|\n",
      "|                  Technology|18957|   150500|       2256|  85510|\n",
      "+----------------------------+-----+---------+-----------+-------+\n",
      "\n",
      "+--------------------------------+-----+--------+-----+----------+------+--------+----+\n",
      "|primary_focus_area_resource_type|Trips|Visitors|Other|Technology| Books|Supplies|null|\n",
      "+--------------------------------+-----+--------+-----+----------+------+--------+----+\n",
      "|             Literacy & Language|  630|     228|32795|    109605|127282|   75924|   4|\n",
      "|                            null|    0|       0|    0|         0|     1|       0|  41|\n",
      "|                Applied Learning| 1197|     104| 9429|     17869|  4863|   22596|   0|\n",
      "|                  Math & Science| 1902|     323|16353|     75189| 11746|   89101|   3|\n",
      "|                Music & The Arts|  947|     441| 8305|     19289|  2883|   37804|   0|\n",
      "|                 Health & Sports|  159|      54| 4633|      3054|   432|   12970|   0|\n",
      "|                   Special Needs|  241|      32| 7636|     19359|  4112|   17151|   0|\n",
      "|                History & Civics| 1188|      73| 3298|     12858|  9554|    8271|   0|\n",
      "+--------------------------------+-----+--------+-----+----------+------+--------+----+\n",
      "\n"
     ]
    }
   ],
   "source": [
    "df_no_null.crosstab('resource_type', 'funding_status').show()\n",
    "df_no_null.crosstab('primary_focus_area', 'resource_type').show()"
   ]
  },
  {
   "cell_type": "code",
   "execution_count": 91,
   "metadata": {
    "collapsed": false,
    "scrolled": true
   },
   "outputs": [
    {
     "data": {
      "text/plain": [
       "0.007004254706419042"
      ]
     },
     "execution_count": 91,
     "metadata": {},
     "output_type": "execute_result"
    }
   ],
   "source": [
    "df_no_null.stat.corr('total_price_excluding_optional_support', 'num_donors')"
   ]
  },
  {
   "cell_type": "code",
   "execution_count": 92,
   "metadata": {
    "collapsed": false
   },
   "outputs": [
    {
     "data": {
      "text/plain": [
       "0.0006159991686679948"
      ]
     },
     "execution_count": 92,
     "metadata": {},
     "output_type": "execute_result"
    }
   ],
   "source": [
    "df_no_null.stat.corr('total_price_excluding_optional_support', 'students_reached')"
   ]
  },
  {
   "cell_type": "code",
   "execution_count": 93,
   "metadata": {
    "collapsed": false
   },
   "outputs": [
    {
     "data": {
      "text/plain": [
       "0.9999972199123168"
      ]
     },
     "execution_count": 93,
     "metadata": {},
     "output_type": "execute_result"
    }
   ],
   "source": [
    "df_no_null.stat.corr('total_price_excluding_optional_support', 'total_price_including_optional_support')"
   ]
  }
 ],
 "metadata": {
  "kernelspec": {
   "display_name": "Python 2",
   "language": "python",
   "name": "python2"
  },
  "language_info": {
   "codemirror_mode": {
    "name": "ipython",
    "version": 2
   },
   "file_extension": ".py",
   "mimetype": "text/x-python",
   "name": "python",
   "nbconvert_exporter": "python",
   "pygments_lexer": "ipython2",
   "version": "2.7.12"
  }
 },
 "nbformat": 4,
 "nbformat_minor": 0
}
